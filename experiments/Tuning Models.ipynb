{
 "cells": [
  {
   "cell_type": "code",
   "execution_count": 1,
   "metadata": {},
   "outputs": [],
   "source": [
    "import numpy as np\n",
    "import sys\n",
    "\n",
    "import run_utils\n",
    "\n",
    "sys.path.append('../') \n",
    "\n",
    "from reclab.recommenders import LibFM\n",
    "from reclab import data_utils"
   ]
  },
  {
   "cell_type": "code",
   "execution_count": 2,
   "metadata": {},
   "outputs": [],
   "source": [
    "users, items, ratings = data_utils.read_movielens100k()\n",
    "\n",
    "default_params = dict(num_two_way_factors=8, learning_rate=0.1,\n",
    "              bias_reg=0., one_way_reg=0., two_way_reg=0., \n",
    "              num_iter=100)\n",
    "\n",
    "tuner = run_utils.ModelTuner((users, items, ratings), default_params,\n",
    "                             n_fold=5, verbose=True)"
   ]
  },
  {
   "cell_type": "code",
   "execution_count": 3,
   "metadata": {},
   "outputs": [
    {
     "name": "stdout",
     "output_type": "stream",
     "text": [
      "Evaluating: {'bias_reg': 0.0001, 'one_way_reg': 0.0001, 'two_way_reg': 0.0001}\n",
      "Fold 1/5, mse=1.2832133165822153\n",
      "Fold 2/5, mse=1.276124360208121\n",
      "Fold 3/5, mse=1.320675145373945\n",
      "Fold 4/5, mse=1.24566901476344\n",
      "Fold 5/5, mse=1.2990263421120225\n",
      "Average MSE: 1.2849416358079488\n",
      "Evaluating: {'bias_reg': 0.001, 'one_way_reg': 0.001, 'two_way_reg': 0.001}\n",
      "Fold 1/5, mse=1.2631371250661756\n",
      "Fold 2/5, mse=1.2583770610113016\n",
      "Fold 3/5, mse=1.3446030570692658\n",
      "Fold 4/5, mse=1.2468049035836821\n",
      "Fold 5/5, mse=1.2802301525984396\n",
      "Average MSE: 1.278630459865773\n",
      "Evaluating: {'bias_reg': 0.01, 'one_way_reg': 0.01, 'two_way_reg': 0.01}\n",
      "Fold 1/5, mse=1.185483378041485\n",
      "Fold 2/5, mse=1.2085952771023225\n",
      "Fold 3/5, mse=1.2325084923694671\n",
      "Fold 4/5, mse=1.1823397503771493\n",
      "Fold 5/5, mse=1.1657936546069418\n",
      "Average MSE: 1.1949441104994731\n",
      "Evaluating: {'bias_reg': 0.1, 'one_way_reg': 0.1, 'two_way_reg': 0.1}\n",
      "Fold 1/5, mse=0.9243079994741336\n",
      "Fold 2/5, mse=0.9437041706728276\n",
      "Fold 3/5, mse=0.9701362620565996\n",
      "Fold 4/5, mse=0.9438649570866532\n",
      "Fold 5/5, mse=0.9359555175978587\n",
      "Average MSE: 0.9435937813776146\n",
      "Evaluating: {'bias_reg': 1, 'one_way_reg': 1, 'two_way_reg': 1}\n",
      "Fold 1/5, mse=1.4865257316631204\n",
      "Fold 2/5, mse=1.4670660778467899\n",
      "Fold 3/5, mse=1.471319905749295\n",
      "Fold 4/5, mse=1.485149522682088\n",
      "Fold 5/5, mse=1.5295444573937282\n",
      "Average MSE: 1.487921139067004\n"
     ]
    }
   ],
   "source": [
    "regs = [0.0001, 0.001, 0.01, 0.1, 1]\n",
    "\n",
    "params_list = [(reg, dict(bias_reg=reg, one_way_reg=reg, two_way_reg=reg)) for reg in regs]\n",
    "\n",
    "res_dict = tuner.evaluate_list(params_list)"
   ]
  },
  {
   "cell_type": "code",
   "execution_count": 4,
   "metadata": {},
   "outputs": [
    {
     "data": {
      "image/png": "[encoded data removed]",
      "text/plain": [
       "<Figure size 432x288 with 1 Axes>"
      ]
     },
     "metadata": {
      "needs_background": "light"
     },
     "output_type": "display_data"
    }
   ],
   "source": [
    "import matplotlib.pyplot as plt\n",
    "\n",
    "plt.figure()\n",
    "plt.title(\"5 fold CV MSE\")\n",
    "plt.boxplot(res_dict.values(), labels=res_dict.keys());"
   ]
  },
  {
   "cell_type": "code",
   "execution_count": null,
   "metadata": {},
   "outputs": [],
   "source": []
  },
  {
   "cell_type": "code",
   "execution_count": null,
   "metadata": {},
   "outputs": [],
   "source": []
  }
 ],
 "metadata": {
  "kernelspec": {
   "display_name": "Python 3",
   "language": "python",
   "name": "python3"
  },
  "language_info": {
   "codemirror_mode": {
    "name": "ipython",
    "version": 3
   },
   "file_extension": ".py",
   "mimetype": "text/x-python",
   "name": "python",
   "nbconvert_exporter": "python",
   "pygments_lexer": "ipython3",
   "version": "3.7.4"
  }
 },
 "nbformat": 4,
 "nbformat_minor": 2
}
