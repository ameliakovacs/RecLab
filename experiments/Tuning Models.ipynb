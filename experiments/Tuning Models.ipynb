{
 "cells": [
  {
   "cell_type": "code",
   "execution_count": 98,
   "metadata": {},
   "outputs": [],
   "source": [
    "import numpy as np\n",
    "import sys\n",
    "\n",
    "sys.path.append('../') \n",
    "\n",
    "from reclab.recommenders import LibFM\n",
    "from reclab import data_utils"
   ]
  },
  {
   "cell_type": "code",
   "execution_count": null,
   "metadata": {},
   "outputs": [],
   "source": []
  },
  {
   "cell_type": "code",
   "execution_count": 114,
   "metadata": {},
   "outputs": [],
   "source": [
    "num_users = 943\n",
    "num_items = 1682\n",
    "\n",
    "regs = [0.0001, 0.001, 0.01, 0.1, 1]\n",
    "\n",
    "default_params = dict(num_two_way_factors=8, learning_rate=0.1,\n",
    "              bias_reg=0., one_way_reg=0., two_way_reg=0., \n",
    "              num_iter=100)\n",
    "\n",
    "params_list = [(reg, dict(bias_reg=reg, one_way_reg=reg, two_way_reg=reg)) for reg in regs]\n",
    "\n",
    "## default params + new params -- then pass in the new param for gridding and easy plotting\n",
    "\n",
    "users, items, ratings = data_utils.read_movielens100k()"
   ]
  },
  {
   "cell_type": "code",
   "execution_count": 115,
   "metadata": {},
   "outputs": [],
   "source": [
    "indices = np.random.permutation(len(ratings))"
   ]
  },
  {
   "cell_type": "code",
   "execution_count": 116,
   "metadata": {},
   "outputs": [],
   "source": [
    "# ratings.keys()[5]"
   ]
  },
  {
   "cell_type": "code",
   "execution_count": 117,
   "metadata": {},
   "outputs": [],
   "source": [
    "n_fold = 5\n",
    "size_fold = len(ratings) // n_fold\n",
    "train_test_folds = []\n",
    "for i in range(n_fold):\n",
    "    test_ind = indices[i*size_fold:(i+1)*size_fold]\n",
    "    train_ind = np.append(indices[:i*size_fold], indices[(i+1)*size_fold:])\n",
    "    train_test_folds.append((train_ind, test_ind))\n"
   ]
  },
  {
   "cell_type": "code",
   "execution_count": 119,
   "metadata": {},
   "outputs": [
    {
     "name": "stdout",
     "output_type": "stream",
     "text": [
      "Evaluating: {'bias_reg': 0.0001, 'one_way_reg': 0.0001, 'two_way_reg': 0.0001}\n",
      "Fold 1/5, mse=1.301346472178888\n",
      "Fold 2/5, mse=1.2547886194632036\n",
      "Fold 3/5, mse=1.2277074012895595\n",
      "Fold 4/5, mse=1.2419421465375133\n",
      "Fold 5/5, mse=1.324667720951669\n",
      "Average MSE: 1.2700904720841666\n",
      "Evaluating: {'bias_reg': 0.001, 'one_way_reg': 0.001, 'two_way_reg': 0.001}\n",
      "Fold 1/5, mse=1.2751861063036036\n",
      "Fold 2/5, mse=1.2555520510281688\n",
      "Fold 3/5, mse=1.2325744144078588\n",
      "Fold 4/5, mse=1.2489912404749242\n",
      "Fold 5/5, mse=1.3530226624912536\n",
      "Average MSE: 1.2730652949411616\n",
      "Evaluating: {'bias_reg': 0.01, 'one_way_reg': 0.01, 'two_way_reg': 0.01}\n",
      "Fold 1/5, mse=1.1853312673126448\n",
      "Fold 2/5, mse=1.1890550417725476\n",
      "Fold 3/5, mse=1.1838592017608942\n",
      "Fold 4/5, mse=1.1725805182092104\n",
      "Fold 5/5, mse=1.1864885258989066\n",
      "Average MSE: 1.1834629109908408\n",
      "Evaluating: {'bias_reg': 0.1, 'one_way_reg': 0.1, 'two_way_reg': 0.1}\n",
      "Fold 1/5, mse=0.9341831361544004\n",
      "Fold 2/5, mse=0.9507604750136698\n",
      "Fold 3/5, mse=0.9274469468812138\n",
      "Fold 4/5, mse=0.9326659149907424\n",
      "Fold 5/5, mse=0.934250102234136\n",
      "Average MSE: 0.9358613150548324\n",
      "Evaluating: {'bias_reg': 1, 'one_way_reg': 1, 'two_way_reg': 1}\n",
      "Fold 1/5, mse=2.1439542885610128\n",
      "Fold 2/5, mse=2.1856013260446847\n",
      "Fold 3/5, mse=2.1512868736514896\n",
      "Fold 4/5, mse=2.1593699920209763\n",
      "Fold 5/5, mse=1.7172442921621702\n",
      "Average MSE: 2.0714913544880664\n"
     ]
    }
   ],
   "source": [
    "res_dict = {}\n",
    "for tag, params in params_list:\n",
    "\n",
    "    recommender = LibFM(num_user_features=0, num_item_features=0, num_rating_features=0,\n",
    "                        max_num_users=num_users, max_num_items=num_items,\n",
    "                        **params)\n",
    "\n",
    "\n",
    "    mses = []\n",
    "    \n",
    "    print(\"Evaluating:\", params)\n",
    "\n",
    "    for i,fold in enumerate(train_test_folds):\n",
    "        print(\"Fold {}/{}, \".format(i+1,len(train_test_folds)), end='')\n",
    "        train_ind, test_ind = fold\n",
    "\n",
    "        keys = list(ratings.keys())\n",
    "        ratings_test = {key:ratings[key] for key in [keys[i] for i in test_ind]}\n",
    "        ratings_train = {key:ratings[key] for key in [keys[i] for i in train_ind]}\n",
    "\n",
    "        ratings_to_predict = []\n",
    "        true_ratings = []\n",
    "        for user, item in ratings_test.keys():\n",
    "            true_r, context = ratings[(user, item)]\n",
    "            ratings_to_predict.append((user, item, context))\n",
    "            true_ratings.append(true_r)\n",
    "\n",
    "        recommender.reset(users, items, ratings_train)\n",
    "\n",
    "        predicted_ratings = recommender._predict(ratings_to_predict)\n",
    "\n",
    "        mse = np.mean((predicted_ratings - true_ratings)**2)\n",
    "        print(\"mse={}\".format(mse))\n",
    "        mses.append(mse)\n",
    "\n",
    "    print(\"Average MSE:\", np.mean(mses))\n",
    "    \n",
    "    res_dict[tag] = mses"
   ]
  },
  {
   "cell_type": "code",
   "execution_count": 126,
   "metadata": {},
   "outputs": [
    {
     "data": {
      "image/png": "[encoded data removed]",
      "text/plain": [
       "<Figure size 432x288 with 1 Axes>"
      ]
     },
     "metadata": {
      "needs_background": "light"
     },
     "output_type": "display_data"
    }
   ],
   "source": [
    "import matplotlib.pyplot as plt\n",
    "\n",
    "plt.figure()\n",
    "plt.title(\"5 fold CV MSE\")\n",
    "plt.boxplot(res_dict.values(), labels=res_dict.keys());"
   ]
  },
  {
   "cell_type": "code",
   "execution_count": null,
   "metadata": {},
   "outputs": [],
   "source": []
  },
  {
   "cell_type": "code",
   "execution_count": null,
   "metadata": {},
   "outputs": [],
   "source": []
  }
 ],
 "metadata": {
  "kernelspec": {
   "display_name": "Python 3",
   "language": "python",
   "name": "python3"
  },
  "language_info": {
   "codemirror_mode": {
    "name": "ipython",
    "version": 3
   },
   "file_extension": ".py",
   "mimetype": "text/x-python",
   "name": "python",
   "nbconvert_exporter": "python",
   "pygments_lexer": "ipython3",
   "version": "3.7.4"
  }
 },
 "nbformat": 4,
 "nbformat_minor": 2
}
