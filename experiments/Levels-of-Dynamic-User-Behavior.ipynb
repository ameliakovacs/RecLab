{
 "cells": [
  {
   "cell_type": "code",
   "execution_count": null,
   "metadata": {},
   "outputs": [],
   "source": [
    "%load_ext autoreload\n",
    "%autoreload 2\n",
    "\n",
    "import numpy as np\n",
    "import sys\n",
    "sys.path.append('../') \n",
    "from reclab.environments.topics import Topics\n",
    "from reclab.environments.latent_factors import LatentFactorBehavior\n",
    "from reclab.recommenders.libfm.libfm import LibFM\n",
    "import matplotlib.pyplot as plt"
   ]
  },
  {
   "cell_type": "markdown",
   "metadata": {},
   "source": [
    "# Illustration of Different User Behaviors\n",
    "\n",
    "In this notebook, for a fixed level of model and user behavior complexity, we illustrate the effect of different time-varying user behaviors on recommendation system quality. \n",
    "Specifically, we evaluate two metrics: observed ratings of recommended items, and predictive accuracy on recommended items. We may also want to look at diversity metrics, or those used in other papers."
   ]
  },
  {
   "cell_type": "code",
   "execution_count": null,
   "metadata": {
    "scrolled": true
   },
   "outputs": [],
   "source": [
    "## Key Parameters across all settings\n",
    "\n",
    "num_users = 100\n",
    "num_items = 170\n",
    "rating_frequency = 0.2\n",
    "num_init_ratings = 1000\n",
    "\n",
    "n_trials = 1 # 0\n",
    "len_trial = 2 # 0\n",
    "\n",
    "SEED = 24532\n",
    "\n",
    "topics = False\n",
    "\n",
    "\n",
    "## Main experimentation functionality - only use environment changes\n",
    "def run_experiment(env):\n",
    "    all_mean_ratings = []; all_mses = []\n",
    "    for i in range(n_trials):\n",
    "        mean_ratings, mses = run_trial(env)\n",
    "        all_mean_ratings.append(mean_ratings)\n",
    "        all_mses.append(mses)\n",
    "    return np.array(all_mean_ratings), np.array(all_mses)\n",
    "\n",
    "def run_trial(env):\n",
    "    recommender = LibFM(num_user_features=0, num_item_features=0, \n",
    "                        num_rating_features=0, max_num_users=num_users, \n",
    "                        max_num_items=num_items)\n",
    "\n",
    "    # First generate the items and users to seed the dataset.\n",
    "    print(\"Initializing environment and recommender\")\n",
    "    items, users, ratings = env.reset()\n",
    "    recommender.reset(items, users, ratings)\n",
    "\n",
    "    mean_ratings = []\n",
    "    mses = []\n",
    "    # Now recommend items to users.\n",
    "    print(\"Making online recommendations\")\n",
    "    for i in range(len_trial):\n",
    "        online_users = env.online_users()\n",
    "        ret, predicted_ratings = recommender.recommend(online_users, num_recommendations=1)\n",
    "        recommendations = ret[:, 0]\n",
    "        items, users, ratings, info = env.step(recommendations)\n",
    "        recommender.update(users, items, ratings)\n",
    "        rating_arr = []\n",
    "        for (rating, _), pred in zip(ratings.values(), predicted_ratings):\n",
    "            rating_arr.append([rating, pred])\n",
    "        rating_arr = np.array(rating_arr)\n",
    "        errors = rating_arr[:,0] - rating_arr[:,1]\n",
    "        mean_ratings.append(np.mean(rating_arr[:, 0]))\n",
    "        mses.append(np.mean(errors**2))\n",
    "        print(\"Iter:\", i, \"Mean:\", mean_ratings[-1], \"MSE:\", mses[-1])\n",
    "\n",
    "    ratings = env.all_ratings()\n",
    "    return mean_ratings, mses"
   ]
  },
  {
   "cell_type": "markdown",
   "metadata": {},
   "source": [
    "## Static User Behavior\n",
    "\n",
    "Here, the user model does not change over time. "
   ]
  },
  {
   "cell_type": "code",
   "execution_count": null,
   "metadata": {
    "scrolled": true
   },
   "outputs": [],
   "source": [
    "if topics:\n",
    "    env = Topics(num_topics=10, num_users=num_users, num_items=num_items, \n",
    "             num_init_ratings=num_init_ratings, rating_frequency=rating_frequency)\n",
    "else:\n",
    "    env = LatentFactorBehavior(latent_dim=8, num_users=num_users, num_items=num_items, \n",
    "             num_init_ratings=num_init_ratings, rating_frequency=rating_frequency)\n",
    "env.seed(SEED)\n",
    "mean_ratings, mses = run_experiment(env)"
   ]
  },
  {
   "cell_type": "code",
   "execution_count": null,
   "metadata": {},
   "outputs": [],
   "source": [
    "plt.figure(figsize=[9,4])\n",
    "plt.subplot(1,2,1)\n",
    "xs = num_init_ratings + num_users/rating_frequency * np.arange(mean_ratings.shape[1])\n",
    "plt.plot(xs, np.mean(mean_ratings, axis=0), label='mean rating')\n",
    "plt.xlabel('# ratings'); plt.ylabel('mean rating')\n",
    "plt.subplot(1,2,2)\n",
    "plt.plot(xs, np.mean(mses, axis=0), label='mse')\n",
    "plt.xlabel('# ratings'); plt.ylabel('mse')\n",
    "plt.tight_layout()\n",
    "plt.show()\n"
   ]
  },
  {
   "cell_type": "markdown",
   "metadata": {},
   "source": [
    "## Partially Hidden User Behavior\n",
    "\n",
    "Here, there is a portion of item utility that is unknown to a user until the item is consumed. From the paper \"How Algorithmic Confounding in Recommendation Systems\n",
    "Increases Homogeneity and Decreases Utility\"."
   ]
  },
  {
   "cell_type": "code",
   "execution_count": null,
   "metadata": {},
   "outputs": [],
   "source": []
  },
  {
   "cell_type": "markdown",
   "metadata": {},
   "source": [
    "## User Interests Shift with Exposure\n",
    "\n",
    "Here, the underlying user interest changes over time to match the body of items that have been recommended."
   ]
  },
  {
   "cell_type": "code",
   "execution_count": null,
   "metadata": {
    "scrolled": true
   },
   "outputs": [],
   "source": [
    "if topics:\n",
    "    env = Topics(num_topics=10, num_users=num_users, num_items=num_items, \n",
    "             num_init_ratings=num_init_ratings, rating_frequency=rating_frequency,\n",
    "             topic_change=0.1)\n",
    "else:\n",
    "    env = LatentFactorBehavior(latent_dim=8, num_users=num_users, num_items=num_items, \n",
    "             num_init_ratings=num_init_ratings, rating_frequency=rating_frequency,\n",
    "             affinity_change=0.1)\n",
    "\n",
    "env.seed(SEED)\n",
    "\n",
    "mean_ratings, mses = run_experiment(env)"
   ]
  },
  {
   "cell_type": "code",
   "execution_count": null,
   "metadata": {},
   "outputs": [],
   "source": [
    "plt.figure(figsize=[9,4])\n",
    "plt.subplot(1,2,1)\n",
    "xs = num_init_ratings + num_users/rating_frequency * np.arange(mean_ratings.shape[1])\n",
    "plt.plot(xs, np.mean(mean_ratings, axis=0), label='mean rating')\n",
    "plt.xlabel('# ratings'); plt.ylabel('mean rating')\n",
    "plt.subplot(1,2,2)\n",
    "plt.plot(xs, np.mean(mses, axis=0), label='mse')\n",
    "plt.xlabel('# ratings'); plt.ylabel('mse')\n",
    "plt.tight_layout()\n",
    "plt.show()\n"
   ]
  },
  {
   "cell_type": "markdown",
   "metadata": {},
   "source": [
    "## User Gets Bored\n",
    "\n",
    "Here, user interest decreases for items too similar to those that they have recently been exposed to, with some decay in the effect."
   ]
  },
  {
   "cell_type": "code",
   "execution_count": null,
   "metadata": {
    "scrolled": true
   },
   "outputs": [],
   "source": [
    "if topics:\n",
    "    env = Topics(num_topics=10, num_users=num_users, num_items=num_items, \n",
    "             num_init_ratings=num_init_ratings, rating_frequency=rating_frequency,\n",
    "             memory_length=5, boredom_threshold=2, boredom_penalty=1.0)\n",
    "else:\n",
    "    env = LatentFactorBehavior(latent_dim=8, num_users=num_users, num_items=num_items, \n",
    "             num_init_ratings=num_init_ratings, rating_frequency=rating_frequency,\n",
    "             memory_length=5, boredom_threshold=0.5, boredom_penalty=1.0)\n",
    "\n",
    "env.seed(SEED)\n",
    "\n",
    "mean_ratings, mses = run_experiment(env)"
   ]
  },
  {
   "cell_type": "code",
   "execution_count": null,
   "metadata": {},
   "outputs": [],
   "source": [
    "plt.figure(figsize=[9,4])\n",
    "plt.subplot(1,2,1)\n",
    "xs = num_init_ratings + num_users/rating_frequency * np.arange(mean_ratings.shape[1])\n",
    "plt.plot(xs, np.mean(mean_ratings, axis=0), label='mean rating')\n",
    "plt.xlabel('# ratings'); plt.ylabel('mean rating')\n",
    "plt.subplot(1,2,2)\n",
    "plt.plot(xs, np.mean(mses, axis=0), label='mse')\n",
    "plt.xlabel('# ratings'); plt.ylabel('mse')\n",
    "plt.tight_layout()\n",
    "plt.show()\n"
   ]
  },
  {
   "cell_type": "markdown",
   "metadata": {},
   "source": [
    "## User Interests Shift, also Gets Bored\n",
    "\n",
    "This is a combination of the previous two cases, where users gradually become more interested in topics that they are exposed to, but also exhibit boredom when they see many similar items in a row."
   ]
  },
  {
   "cell_type": "code",
   "execution_count": null,
   "metadata": {},
   "outputs": [],
   "source": [
    "if topics:\n",
    "    env = Topics(num_topics=10, num_users=num_users, num_items=num_items, \n",
    "             num_init_ratings=num_init_ratings, rating_frequency=rating_frequency,\n",
    "             topic_change=0.1, memory_length=5, boredom_threshold=2, boredom_penalty=1.0)\n",
    "else:\n",
    "    env = LatentFactorBehavior(latent_dim=8, num_users=num_users, num_items=num_items, \n",
    "             num_init_ratings=num_init_ratings, rating_frequency=rating_frequency,\n",
    "             affinity_change=0.1, memory_length=5, boredom_threshold=2, boredom_penalty=1.0)\n",
    "\n",
    "env.seed(SEED)\n",
    "\n",
    "mean_ratings, mses = run_experiment(env)"
   ]
  },
  {
   "cell_type": "code",
   "execution_count": null,
   "metadata": {},
   "outputs": [],
   "source": [
    "plt.figure(figsize=[9,4])\n",
    "plt.subplot(1,2,1)\n",
    "xs = num_init_ratings + num_users/rating_frequency * np.arange(mean_ratings.shape[1])\n",
    "plt.plot(xs, np.mean(mean_ratings, axis=0), label='mean rating')\n",
    "plt.xlabel('# ratings'); plt.ylabel('mean rating')\n",
    "plt.subplot(1,2,2)\n",
    "plt.plot(xs, np.mean(mses, axis=0), label='mse')\n",
    "plt.xlabel('# ratings'); plt.ylabel('mse')\n",
    "plt.tight_layout()\n",
    "plt.show()\n"
   ]
  },
  {
   "cell_type": "code",
   "execution_count": null,
   "metadata": {},
   "outputs": [],
   "source": []
  }
 ],
 "metadata": {
  "kernelspec": {
   "display_name": "Python 3",
   "language": "python",
   "name": "python3"
  },
  "language_info": {
   "codemirror_mode": {
    "name": "ipython",
    "version": 3
   },
   "file_extension": ".py",
   "mimetype": "text/x-python",
   "name": "python",
   "nbconvert_exporter": "python",
   "pygments_lexer": "ipython3",
   "version": "3.7.4"
  }
 },
 "nbformat": 4,
 "nbformat_minor": 2
}
