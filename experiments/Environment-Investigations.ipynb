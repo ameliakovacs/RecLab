{
 "cells": [
  {
   "cell_type": "code",
   "execution_count": 1,
   "metadata": {},
   "outputs": [],
   "source": [
    "%load_ext autoreload\n",
    "%autoreload 2\n",
    "\n",
    "import numpy as np\n",
    "import matplotlib.pyplot as plt\n",
    "import sys\n",
    "\n",
    "%matplotlib notebook\n",
    "\n",
    "from run_utils import run_env_experiment, plot_ratings_mses\n",
    "\n",
    "sys.path.append('../') \n",
    "from reclab.environments.latent_factors import DatasetLatentFactor, LatentFactorBehavior\n",
    "from reclab.environments.topics import Topics\n",
    "\n",
    "from reclab import data_utils\n"
   ]
  },
  {
   "cell_type": "code",
   "execution_count": 2,
   "metadata": {},
   "outputs": [],
   "source": [
    "def get_dense_ratings(env):\n",
    "    users, items, ratings = env.reset()\n",
    "    rating_matrix = np.zeros([len(users), len(items)])\n",
    "    for u in users.keys():\n",
    "        for i in items.keys():\n",
    "            rating_matrix[u,i] = env._get_rating(u, i)\n",
    "    return rating_matrix\n",
    "\n",
    "def plot_average_rating_hists(rating_matrix):\n",
    "    average_item_ratings = np.nanmean(rating_matrix, axis=0)\n",
    "    average_user_ratings = np.nanmean(rating_matrix, axis=1)\n",
    "    \n",
    "    def plot_hist(data, title):\n",
    "        plt.hist(data, bins=np.linspace(0,5.5,12))\n",
    "        plt.title(title)\n",
    "        plt.xlim([-0.1,5.6])\n",
    "        plt.xticks(np.linspace(0,5,6))\n",
    "    \n",
    "    plt.figure(figsize=[9,3])\n",
    "    plt.subplot(1,3,1)\n",
    "    plot_hist(average_item_ratings, \"Average item Ratings\")\n",
    "    \n",
    "    plt.subplot(1,3,2)\n",
    "    plot_hist(average_user_ratings, \"Average user Ratings\")\n",
    "\n",
    "    plt.subplot(1,3,3)\n",
    "    all_ratings = rating_matrix.flatten()\n",
    "    all_ratings = all_ratings[np.logical_not(np.isnan(all_ratings))]\n",
    "    plot_hist(all_ratings, \"All Ratings\")\n",
    "    plt.tight_layout()"
   ]
  },
  {
   "cell_type": "code",
   "execution_count": 3,
   "metadata": {},
   "outputs": [],
   "source": [
    "num_users = 943\n",
    "num_items = 1682\n",
    "\n",
    "env_params = {\n",
    "    'num_users': num_users,\n",
    "    'num_items': num_items,\n",
    "    'rating_frequency': 0.5,\n",
    "    'num_init_ratings': 0\n",
    "}\n"
   ]
  },
  {
   "cell_type": "markdown",
   "metadata": {},
   "source": [
    "# ML-100K Model"
   ]
  },
  {
   "cell_type": "code",
   "execution_count": 4,
   "metadata": {},
   "outputs": [],
   "source": [
    "params = {'latent_dim': 8}\n",
    "\n",
    "\n",
    "env_params_dataset = {key:env_params[key] for key in env_params.keys() if key not in ['num_users', 'num_items']}\n",
    "for key in ['num_users', 'num_items']:\n",
    "    env_params_dataset['max_'+key] = env_params[key]\n",
    "env = DatasetLatentFactor('ml-100k', **params, **env_params_dataset)\n"
   ]
  },
  {
   "cell_type": "code",
   "execution_count": 5,
   "metadata": {},
   "outputs": [
    {
     "name": "stdout",
     "output_type": "stream",
     "text": [
      "Loading model from ../reclab/../data/ml-100k/fm_model.npz trained via:\n",
      "{\"num_user_features\": 0, \"num_item_features\": 0, \"num_rating_features\": 0, \"max_num_users\": 1682, \"max_num_items\": 1682, \"method\": \"sgd\", \"use_global_bias\": true, \"use_one_way\": true, \"num_two_way_factors\": 8, \"learning_rate\": 0.005, \"bias_reg\": 0.1, \"one_way_reg\": 0.1, \"two_way_reg\": 0.1, \"init_stdev\": 0.1, \"num_iter\": 100, \"seed\": 0}.\n"
     ]
    }
   ],
   "source": [
    "rating_matrix = get_dense_ratings(env)"
   ]
  },
  {
   "cell_type": "code",
   "execution_count": 6,
   "metadata": {},
   "outputs": [
    {
     "data": {
      "image/png": "[encoded data removed]",
      "text/plain": [
       "<Figure size 648x216 with 3 Axes>"
      ]
     },
     "metadata": {
      "needs_background": "light"
     },
     "output_type": "display_data"
    }
   ],
   "source": [
    "plot_average_rating_hists(rating_matrix)"
   ]
  },
  {
   "cell_type": "markdown",
   "metadata": {},
   "source": [
    "# Smaller ML-100K Model"
   ]
  },
  {
   "cell_type": "code",
   "execution_count": 7,
   "metadata": {},
   "outputs": [],
   "source": [
    "params = {'latent_dim': 8}\n",
    "\n",
    "env_params_dataset = {key:env_params[key] for key in env_params.keys() if key not in ['num_users', 'num_items']}\n",
    "env_params_dataset['max_num_users'] = env_params['num_users'] // 2\n",
    "env_params_dataset['max_num_items'] = env_params['num_items']  // 2\n",
    "\n",
    "env = DatasetLatentFactor('ml-100k', **params, **env_params_dataset)\n"
   ]
  },
  {
   "cell_type": "code",
   "execution_count": 8,
   "metadata": {},
   "outputs": [
    {
     "name": "stdout",
     "output_type": "stream",
     "text": [
      "Loading model from ../reclab/../data/ml-100k/fm_model.npz trained via:\n",
      "{\"num_user_features\": 0, \"num_item_features\": 0, \"num_rating_features\": 0, \"max_num_users\": 1682, \"max_num_items\": 1682, \"method\": \"sgd\", \"use_global_bias\": true, \"use_one_way\": true, \"num_two_way_factors\": 8, \"learning_rate\": 0.005, \"bias_reg\": 0.1, \"one_way_reg\": 0.1, \"two_way_reg\": 0.1, \"init_stdev\": 0.1, \"num_iter\": 100, \"seed\": 0}.\n"
     ]
    }
   ],
   "source": [
    "rating_matrix = get_dense_ratings(env)"
   ]
  },
  {
   "cell_type": "code",
   "execution_count": 9,
   "metadata": {},
   "outputs": [
    {
     "data": {
      "image/png": "[encoded data removed]",
      "text/plain": [
       "<Figure size 648x216 with 3 Axes>"
      ]
     },
     "metadata": {
      "needs_background": "light"
     },
     "output_type": "display_data"
    }
   ],
   "source": [
    "plot_average_rating_hists(rating_matrix)"
   ]
  },
  {
   "cell_type": "markdown",
   "metadata": {},
   "source": [
    "# ML-100K Data"
   ]
  },
  {
   "cell_type": "code",
   "execution_count": 10,
   "metadata": {},
   "outputs": [
    {
     "name": "stdout",
     "output_type": "stream",
     "text": [
      "943 1682\n"
     ]
    }
   ],
   "source": [
    "users, items, ratings = data_utils.read_dataset('ml-100k')\n",
    "print(len(users), len(items))"
   ]
  },
  {
   "cell_type": "code",
   "execution_count": 11,
   "metadata": {},
   "outputs": [],
   "source": [
    "rating_matrix = np.nan * np.ones([len(users), len(items)])\n",
    "for key in ratings.keys():\n",
    "    u, i = key\n",
    "    rating_matrix[u-1, i-1] = ratings[key][0]"
   ]
  },
  {
   "cell_type": "code",
   "execution_count": 12,
   "metadata": {},
   "outputs": [],
   "source": [
    "average_item_ratings = np.nanmean(rating_matrix, axis=0)\n",
    "average_user_ratings = np.nanmean(rating_matrix, axis=1)"
   ]
  },
  {
   "cell_type": "code",
   "execution_count": 13,
   "metadata": {},
   "outputs": [
    {
     "data": {
      "image/png": "[encoded data removed]",
      "text/plain": [
       "<Figure size 648x216 with 3 Axes>"
      ]
     },
     "metadata": {
      "needs_background": "light"
     },
     "output_type": "display_data"
    }
   ],
   "source": [
    "plot_average_rating_hists(rating_matrix)"
   ]
  },
  {
   "cell_type": "markdown",
   "metadata": {},
   "source": [
    "# Random Latent Factor Model\n"
   ]
  },
  {
   "cell_type": "code",
   "execution_count": 14,
   "metadata": {},
   "outputs": [],
   "source": [
    "params = {'latent_dim': 8}\n",
    "\n",
    "env = LatentFactorBehavior(**params, **env_params)\n"
   ]
  },
  {
   "cell_type": "code",
   "execution_count": 15,
   "metadata": {},
   "outputs": [],
   "source": [
    "rating_matrix = get_dense_ratings(env)"
   ]
  },
  {
   "cell_type": "code",
   "execution_count": 16,
   "metadata": {},
   "outputs": [
    {
     "data": {
      "image/png": "[encoded data removed]",
      "text/plain": [
       "<Figure size 648x216 with 3 Axes>"
      ]
     },
     "metadata": {
      "needs_background": "light"
     },
     "output_type": "display_data"
    }
   ],
   "source": [
    "plot_average_rating_hists(rating_matrix)"
   ]
  },
  {
   "cell_type": "markdown",
   "metadata": {},
   "source": [
    "# Random Topics Model"
   ]
  },
  {
   "cell_type": "code",
   "execution_count": 17,
   "metadata": {},
   "outputs": [],
   "source": [
    "params = {'num_topics': 20}\n",
    "\n",
    "env = Topics(**params, **env_params)\n"
   ]
  },
  {
   "cell_type": "code",
   "execution_count": 18,
   "metadata": {},
   "outputs": [],
   "source": [
    "rating_matrix = get_dense_ratings(env)"
   ]
  },
  {
   "cell_type": "code",
   "execution_count": 20,
   "metadata": {},
   "outputs": [
    {
     "data": {
      "image/png": "[encoded data removed]",
      "text/plain": [
       "<Figure size 648x216 with 3 Axes>"
      ]
     },
     "metadata": {
      "needs_background": "light"
     },
     "output_type": "display_data"
    }
   ],
   "source": [
    "plot_average_rating_hists(rating_matrix)"
   ]
  },
  {
   "cell_type": "code",
   "execution_count": 21,
   "metadata": {},
   "outputs": [
    {
     "data": {
      "text/plain": [
       "5.0"
      ]
     },
     "execution_count": 21,
     "metadata": {},
     "output_type": "execute_result"
    }
   ],
   "source": [
    "np.max(rating_matrix)"
   ]
  },
  {
   "cell_type": "code",
   "execution_count": null,
   "metadata": {},
   "outputs": [],
   "source": []
  }
 ],
 "metadata": {
  "kernelspec": {
   "display_name": "Python 3",
   "language": "python",
   "name": "python3"
  },
  "language_info": {
   "codemirror_mode": {
    "name": "ipython",
    "version": 3
   },
   "file_extension": ".py",
   "mimetype": "text/x-python",
   "name": "python",
   "nbconvert_exporter": "python",
   "pygments_lexer": "ipython3",
   "version": "3.7.4"
  }
 },
 "nbformat": 4,
 "nbformat_minor": 2
}
