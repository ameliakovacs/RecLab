{
 "cells": [
  {
   "cell_type": "code",
   "execution_count": null,
   "metadata": {
    "scrolled": true
   },
   "outputs": [],
   "source": [
    "import matplotlib.pyplot as plt\n",
    "import matplotlib \n",
    "import seaborn as sns\n",
    "import numpy as np\n",
    "\n",
    "%matplotlib notebook\n"
   ]
  },
  {
   "cell_type": "code",
   "execution_count": null,
   "metadata": {},
   "outputs": [],
   "source": [
    "\n",
    "\n",
    "bigfont = 18\n",
    "medfont = 14\n",
    "smallfont = 12\n",
    "sns.set_style('ticks', {'font.family':'serif', 'font.serif':'Times New Roman'})\n",
    "\n",
    "sns.set_palette(\"muted\")\n",
    "\n",
    "matplotlib.rcParams['text.usetex'] = False\n",
    "sns.set(style=\"ticks\")\n",
    "plt.rc('font', family='serif')\n",
    "plt.rc('font', serif='Times New Roman')"
   ]
  },
  {
   "cell_type": "code",
   "execution_count": null,
   "metadata": {
    "scrolled": true
   },
   "outputs": [],
   "source": [
    "xmax = 1.0\n",
    "xmin = 0.85\n",
    "x = [0.946, 0.956, 0.909, 0.883, 0.905, 0.891, 0.878, 0.932, 0.912, 0.877, 0.983]\n",
    "y = [0.945, 0.957, 0.873, 0.84, 0.854, 0.841, 0.834, 0.904, 0.901, 0.834, 0.984]\n",
    "plt.figure(figsize=(10,6))\n",
    "plt.xticks(fontsize=bigfont)\n",
    "plt.yticks(fontsize=bigfont)\n",
    "plt.grid(True, linestyle='--', which='major', color='grey', alpha=.25)\n",
    "plt.xlabel(\"NDCG on ML-100K-INIT\", fontsize=bigfont)\n",
    "plt.ylabel(\"NDCG on ML-100K-INIT-FLIP\", fontsize=bigfont)\n",
    "plt.xlim(xmin, xmax)\n",
    "m, b = np.polyfit(x, y, 1)\n",
    "x_lin = np.linspace(xmin, xmax, 1000)\n",
    "plt.plot(x_lin, m * x_lin + b, color='r', linewidth=2)\n",
    "plt.scatter(x, y)\n",
    "plt.savefig('offline-ml-100k-vs-ml-100k-flipped.pdf')"
   ]
  },
  {
   "cell_type": "code",
   "execution_count": null,
   "metadata": {},
   "outputs": [],
   "source": []
  },
  {
   "cell_type": "code",
   "execution_count": null,
   "metadata": {},
   "outputs": [],
   "source": []
  },
  {
   "cell_type": "code",
   "execution_count": null,
   "metadata": {},
   "outputs": [],
   "source": [
    "xmax = 1.0\n",
    "xmin = 0.85\n",
    "x = [0.946, 0.956, 0.909, 0.883, 0.905, 0.891, 0.878, 0.932, 0.912, 0.877, 0.983]\n",
    "y = [0.968, 0.975, 0.865, 0.847, 0.85, 0.841, 0.832, 0.902, 0.901, 0.833, 0.99]\n",
    "plt.figure(figsize=(10,6))\n",
    "plt.xticks(fontsize=bigfont)\n",
    "plt.yticks(fontsize=bigfont)\n",
    "plt.grid(True, linestyle='--', which='major', color='grey', alpha=.25)\n",
    "plt.xlabel(\"NDCG on ML-100K-INIT\", fontsize=bigfont)\n",
    "plt.ylabel(\"NDCG on UNIFORM\", fontsize=bigfont)\n",
    "plt.xlim(xmin, xmax)\n",
    "m, b = np.polyfit(x, y, 1)\n",
    "x_lin = np.linspace(xmin, xmax, 1000)\n",
    "plt.plot(x_lin, m * x_lin + b, color='r', linewidth=2)\n",
    "plt.scatter(x, y)\n",
    "plt.savefig('offline-ml-100k-vs-uniform.pdf')"
   ]
  },
  {
   "cell_type": "code",
   "execution_count": null,
   "metadata": {},
   "outputs": [],
   "source": []
  }
 ],
 "metadata": {
  "kernelspec": {
   "display_name": "Python 3",
   "language": "python",
   "name": "python3"
  },
  "language_info": {
   "codemirror_mode": {
    "name": "ipython",
    "version": 3
   },
   "file_extension": ".py",
   "mimetype": "text/x-python",
   "name": "python",
   "nbconvert_exporter": "python",
   "pygments_lexer": "ipython3",
   "version": "3.8.3"
  }
 },
 "nbformat": 4,
 "nbformat_minor": 2
}
