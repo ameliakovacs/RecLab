{
 "cells": [
  {
   "cell_type": "code",
   "execution_count": 13,
   "metadata": {},
   "outputs": [
    {
     "name": "stdout",
     "output_type": "stream",
     "text": [
      "The autoreload extension is already loaded. To reload it, use:\n",
      "  %reload_ext autoreload\n"
     ]
    }
   ],
   "source": [
    "%load_ext autoreload\n",
    "%autoreload 2\n",
    "\n",
    "import numpy as np\n",
    "import matplotlib.pyplot as plt\n",
    "import sys\n",
    "\n",
    "%matplotlib notebook\n",
    "\n",
    "from run_utils import run_env_experiment, plot_ratings_mses\n",
    "\n",
    "sys.path.append('../') \n",
    "from reclab.environments.latent_factors import DatasetLatentFactor, LatentFactorBehavior\n",
    "from reclab.environments.topics import Topics\n",
    "from reclab.environments.engelhardt import Engelhardt\n",
    "from reclab.environments.schmit import Schmit\n",
    "\n",
    "\n",
    "from reclab import data_utils\n",
    "\n",
    "import seaborn as sns\n"
   ]
  },
  {
   "cell_type": "code",
   "execution_count": 3,
   "metadata": {},
   "outputs": [],
   "source": [
    "def plot_average_rating_hists(rating_matrix, quantile=0.9, bins=np.linspace(0,5.5,12)):\n",
    "    average_item_ratings = np.nanmean(rating_matrix, axis=0)\n",
    "    average_user_ratings = np.nanmean(rating_matrix, axis=1)\n",
    "    quantile_user_ratings = np.nanquantile(rating_matrix, quantile, axis=1)\n",
    "    \n",
    "    def plot_hist(data, title):\n",
    "        plt.hist(data, bins=bins)\n",
    "        plt.title(title)\n",
    "        if bins is not None: \n",
    "            plt.xlim([-0.1,5.6])\n",
    "            plt.xticks(np.linspace(0,5,6))\n",
    "    \n",
    "    plt.figure(figsize=[12,3])\n",
    "    plt.subplot(1,4,1)\n",
    "    plot_hist(average_item_ratings, \"Average item Ratings\")\n",
    "    \n",
    "    plt.subplot(1,4,2)\n",
    "    plot_hist(average_user_ratings, \"Average user Ratings\")\n",
    "    \n",
    "    plt.subplot(1,4,3)\n",
    "    plot_hist(quantile_user_ratings, \"{}-Quantile user Ratings\".format(quantile))\n",
    "\n",
    "    plt.subplot(1,4,4)\n",
    "    all_ratings = rating_matrix.flatten()\n",
    "    all_ratings = all_ratings[np.logical_not(np.isnan(all_ratings))]\n",
    "    plot_hist(all_ratings, \"All Ratings\")\n",
    "    plt.tight_layout()"
   ]
  },
  {
   "cell_type": "code",
   "execution_count": 4,
   "metadata": {},
   "outputs": [],
   "source": [
    "num_users = 943\n",
    "num_items = 1682\n",
    "\n",
    "env_params = {\n",
    "    'num_users': num_users,\n",
    "    'num_items': num_items,\n",
    "    'rating_frequency': 0.5,\n",
    "    'num_init_ratings': 0\n",
    "}\n"
   ]
  },
  {
   "cell_type": "markdown",
   "metadata": {},
   "source": [
    "# ML-100K Model"
   ]
  },
  {
   "cell_type": "code",
   "execution_count": 5,
   "metadata": {
    "scrolled": true
   },
   "outputs": [
    {
     "name": "stdout",
     "output_type": "stream",
     "text": [
      "Loading model from ../reclab/../data/ml-100k/fm_model.npz trained via:\n",
      "{\"num_user_features\": 0, \"num_item_features\": 0, \"num_rating_features\": 0, \"max_num_users\": 943, \"max_num_items\": 1682, \"method\": \"sgd\", \"use_global_bias\": true, \"use_one_way\": true, \"num_two_way_factors\": 8, \"learning_rate\": 0.005, \"bias_reg\": 0.1, \"one_way_reg\": 0.1, \"two_way_reg\": 0.1, \"init_stdev\": 0.1, \"num_iter\": 100, \"seed\": 0, \"kwargs\": {}}.\n"
     ]
    }
   ],
   "source": [
    "params = {'latent_dim': 8}\n",
    "\n",
    "\n",
    "env_params_dataset = {key:env_params[key] for key in env_params.keys() if key not in ['num_users', 'num_items']}\n",
    "for key in ['num_users', 'num_items']:\n",
    "    env_params_dataset['max_'+key] = env_params[key]\n",
    "env = DatasetLatentFactor('ml-100k', **params, **env_params_dataset)\n",
    "users, items, ratings = env.reset();"
   ]
  },
  {
   "cell_type": "code",
   "execution_count": 6,
   "metadata": {
    "scrolled": true
   },
   "outputs": [],
   "source": [
    "rating_matrix = env._get_dense_ratings()"
   ]
  },
  {
   "cell_type": "code",
   "execution_count": 10,
   "metadata": {},
   "outputs": [
    {
     "name": "stdout",
     "output_type": "stream",
     "text": [
      "Good item density: 0.07464602433854561\n"
     ]
    },
    {
     "data": {
      "image/png": "[encoded data removed]",
      "text/plain": [
       "<Figure size 864x216 with 4 Axes>"
      ]
     },
     "metadata": {
      "needs_background": "light"
     },
     "output_type": "display_data"
    }
   ],
   "source": [
    "plot_average_rating_hists(rating_matrix)\n",
    "print(\"Good item density: {}\".format(np.sum(rating_matrix > 4) / np.prod(rating_matrix.shape)))"
   ]
  },
  {
   "cell_type": "code",
   "execution_count": 39,
   "metadata": {},
   "outputs": [],
   "source": [
    "dense_model_rating_matrix = rating_matrix"
   ]
  },
  {
   "cell_type": "code",
   "execution_count": 40,
   "metadata": {},
   "outputs": [],
   "source": [
    "\n",
    "# sns.clustermap(rating_matrix, metric='cosine')\n",
    "# plt.title('Cosine Clusters')\n",
    "\n",
    "# sns.clustermap(rating_matrix)\n",
    "# plt.title('Euclidean Clusters')"
   ]
  },
  {
   "cell_type": "markdown",
   "metadata": {},
   "source": [
    "# Smaller ML-100K Model"
   ]
  },
  {
   "cell_type": "code",
   "execution_count": 12,
   "metadata": {},
   "outputs": [
    {
     "name": "stdout",
     "output_type": "stream",
     "text": [
      "Loading model from ../reclab/../data/ml-100k/fm_model.npz trained via:\n",
      "{\"num_user_features\": 0, \"num_item_features\": 0, \"num_rating_features\": 0, \"max_num_users\": 943, \"max_num_items\": 1682, \"method\": \"sgd\", \"use_global_bias\": true, \"use_one_way\": true, \"num_two_way_factors\": 8, \"learning_rate\": 0.005, \"bias_reg\": 0.1, \"one_way_reg\": 0.1, \"two_way_reg\": 0.1, \"init_stdev\": 0.1, \"num_iter\": 100, \"seed\": 0, \"kwargs\": {}}.\n"
     ]
    }
   ],
   "source": [
    "params = {'latent_dim': 8}\n",
    "\n",
    "env_params_dataset = {key:env_params[key] for key in env_params.keys() if key not in ['num_users', 'num_items']}\n",
    "env_params_dataset['max_num_users'] = env_params['num_users'] // 2\n",
    "env_params_dataset['max_num_items'] = env_params['num_items']  // 2\n",
    "\n",
    "env = DatasetLatentFactor('ml-100k', **params, **env_params_dataset)\n",
    "users, items, ratings = env.reset();"
   ]
  },
  {
   "cell_type": "code",
   "execution_count": 13,
   "metadata": {},
   "outputs": [],
   "source": [
    "rating_matrix = env._get_dense_ratings()"
   ]
  },
  {
   "cell_type": "code",
   "execution_count": 14,
   "metadata": {},
   "outputs": [
    {
     "name": "stdout",
     "output_type": "stream",
     "text": [
      "Good item density: 0.07117196947320321\n"
     ]
    },
    {
     "data": {
      "image/png": "[encoded data removed]",
      "text/plain": [
       "<Figure size 864x216 with 4 Axes>"
      ]
     },
     "metadata": {
      "needs_background": "light"
     },
     "output_type": "display_data"
    }
   ],
   "source": [
    "plot_average_rating_hists(rating_matrix)\n",
    "print(\"Good item density: {}\".format(np.sum(rating_matrix > 4) / np.prod(rating_matrix.shape)))"
   ]
  },
  {
   "cell_type": "code",
   "execution_count": null,
   "metadata": {},
   "outputs": [],
   "source": []
  },
  {
   "cell_type": "markdown",
   "metadata": {},
   "source": [
    "# ML-100K Data"
   ]
  },
  {
   "cell_type": "code",
   "execution_count": 15,
   "metadata": {},
   "outputs": [
    {
     "name": "stdout",
     "output_type": "stream",
     "text": [
      "943 1682\n"
     ]
    }
   ],
   "source": [
    "users, items, ratings = data_utils.read_dataset('ml-100k')\n",
    "print(len(users), len(items))"
   ]
  },
  {
   "cell_type": "code",
   "execution_count": 16,
   "metadata": {},
   "outputs": [],
   "source": [
    "rating_matrix = np.nan * np.ones([len(users), len(items)])\n",
    "for key in ratings.keys():\n",
    "    u, i = key\n",
    "    rating_matrix[u-1, i-1] = ratings[key][0]"
   ]
  },
  {
   "cell_type": "code",
   "execution_count": 17,
   "metadata": {},
   "outputs": [],
   "source": [
    "average_item_ratings = np.nanmean(rating_matrix, axis=0)\n",
    "average_user_ratings = np.nanmean(rating_matrix, axis=1)"
   ]
  },
  {
   "cell_type": "code",
   "execution_count": 19,
   "metadata": {},
   "outputs": [
    {
     "data": {
      "image/png": "[encoded data removed]",
      "text/plain": [
       "<Figure size 864x216 with 4 Axes>"
      ]
     },
     "metadata": {
      "needs_background": "light"
     },
     "output_type": "display_data"
    }
   ],
   "source": [
    "plot_average_rating_hists(rating_matrix)\n"
   ]
  },
  {
   "cell_type": "markdown",
   "metadata": {},
   "source": [
    "# Random Latent Factor Model\n"
   ]
  },
  {
   "cell_type": "code",
   "execution_count": 20,
   "metadata": {},
   "outputs": [],
   "source": [
    "params = {'latent_dim': 8}\n",
    "\n",
    "env = LatentFactorBehavior(**params, **env_params)\n",
    "env.reset();"
   ]
  },
  {
   "cell_type": "code",
   "execution_count": 21,
   "metadata": {},
   "outputs": [],
   "source": [
    "rating_matrix = env._get_dense_ratings()"
   ]
  },
  {
   "cell_type": "code",
   "execution_count": 22,
   "metadata": {},
   "outputs": [
    {
     "name": "stdout",
     "output_type": "stream",
     "text": [
      "Good item density: 0.15527265803599463\n"
     ]
    },
    {
     "data": {
      "image/png": "[encoded data removed]",
      "text/plain": [
       "<Figure size 864x216 with 4 Axes>"
      ]
     },
     "metadata": {
      "needs_background": "light"
     },
     "output_type": "display_data"
    }
   ],
   "source": [
    "plot_average_rating_hists(rating_matrix)\n",
    "print(\"Good item density: {}\".format(np.sum(rating_matrix > 4) / np.prod(rating_matrix.shape)))"
   ]
  },
  {
   "cell_type": "markdown",
   "metadata": {},
   "source": [
    "# Random Topics Model"
   ]
  },
  {
   "cell_type": "code",
   "execution_count": 23,
   "metadata": {},
   "outputs": [],
   "source": [
    "params = {'num_topics': 20}\n",
    "\n",
    "env = Topics(**params, **env_params)\n",
    "env.reset();"
   ]
  },
  {
   "cell_type": "code",
   "execution_count": 24,
   "metadata": {},
   "outputs": [],
   "source": [
    "rating_matrix = env._get_dense_ratings()"
   ]
  },
  {
   "cell_type": "code",
   "execution_count": 25,
   "metadata": {},
   "outputs": [
    {
     "name": "stdout",
     "output_type": "stream",
     "text": [
      "Good item density: 0.29634909206456483\n"
     ]
    },
    {
     "data": {
      "image/png": "[encoded data removed]",
      "text/plain": [
       "<Figure size 864x216 with 4 Axes>"
      ]
     },
     "metadata": {
      "needs_background": "light"
     },
     "output_type": "display_data"
    }
   ],
   "source": [
    "plot_average_rating_hists(rating_matrix)\n",
    "print(\"Good item density: {}\".format(np.sum(rating_matrix > 4) / np.prod(rating_matrix.shape)))"
   ]
  },
  {
   "cell_type": "markdown",
   "metadata": {},
   "source": [
    "# Engelhardt Model"
   ]
  },
  {
   "cell_type": "code",
   "execution_count": 5,
   "metadata": {},
   "outputs": [],
   "source": [
    "params = {'num_topics': 20}\n",
    "\n",
    "env = Engelhardt(**params, **env_params)\n",
    "env.reset();\n"
   ]
  },
  {
   "cell_type": "code",
   "execution_count": 6,
   "metadata": {},
   "outputs": [],
   "source": [
    "rating_matrix = env._get_dense_ratings()"
   ]
  },
  {
   "cell_type": "code",
   "execution_count": 7,
   "metadata": {},
   "outputs": [
    {
     "name": "stdout",
     "output_type": "stream",
     "text": [
      "Good item density: 0.0016348007661434211\n"
     ]
    },
    {
     "data": {
      "image/png": "[encoded data removed]",
      "text/plain": [
       "<Figure size 864x216 with 4 Axes>"
      ]
     },
     "metadata": {
      "needs_background": "light"
     },
     "output_type": "display_data"
    }
   ],
   "source": [
    "plot_average_rating_hists(rating_matrix, bins=None)\n",
    "print(\"Good item density: {}\".format(np.sum(rating_matrix > 4) / np.prod(rating_matrix.shape)))"
   ]
  },
  {
   "cell_type": "code",
   "execution_count": null,
   "metadata": {},
   "outputs": [],
   "source": []
  },
  {
   "cell_type": "markdown",
   "metadata": {},
   "source": [
    "# Schmidt"
   ]
  },
  {
   "cell_type": "code",
   "execution_count": 15,
   "metadata": {},
   "outputs": [],
   "source": [
    "params = {'rank': 20}\n",
    "\n",
    "env = Schmit(**params, **env_params)\n",
    "env.reset();\n"
   ]
  },
  {
   "cell_type": "code",
   "execution_count": 18,
   "metadata": {},
   "outputs": [],
   "source": [
    "rating_matrix = env._get_dense_ratings()"
   ]
  },
  {
   "cell_type": "code",
   "execution_count": 19,
   "metadata": {},
   "outputs": [
    {
     "data": {
      "application/javascript": [
       "/* Put everything inside the global mpl namespace */\n",
       "window.mpl = {};\n",
       "\n",
       "\n",
       "mpl.get_websocket_type = function() {\n",
       "    if (typeof(WebSocket) !== 'undefined') {\n",
       "        return WebSocket;\n",
       "    } else if (typeof(MozWebSocket) !== 'undefined') {\n",
       "        return MozWebSocket;\n",
       "    } else {\n",
       "        alert('Your browser does not have WebSocket support. ' +\n",
       "              'Please try Chrome, Safari or Firefox ≥ 6. ' +\n",
       "              'Firefox 4 and 5 are also supported but you ' +\n",
       "              'have to enable WebSockets in about:config.');\n",
       "    };\n",
       "}\n",
       "\n",
       "mpl.figure = function(figure_id, websocket, ondownload, parent_element) {\n",
       "    this.id = figure_id;\n",
       "\n",
       "    this.ws = websocket;\n",
       "\n",
       "    this.supports_binary = (this.ws.binaryType != undefined);\n",
       "\n",
       "    if (!this.supports_binary) {\n",
       "        var warnings = document.getElementById(\"mpl-warnings\");\n",
       "        if (warnings) {\n",
       "            warnings.style.display = 'block';\n",
       "            warnings.textContent = (\n",
       "                \"This browser does not support binary websocket messages. \" +\n",
       "                    \"Performance may be slow.\");\n",
       "        }\n",
       "    }\n",
       "\n",
       "    this.imageObj = new Image();\n",
       "\n",
       "    this.context = undefined;\n",
       "    this.message = undefined;\n",
       "    this.canvas = undefined;\n",
       "    this.rubberband_canvas = undefined;\n",
       "    this.rubberband_context = undefined;\n",
       "    this.format_dropdown = undefined;\n",
       "\n",
       "    this.image_mode = 'full';\n",
       "\n",
       "    this.root = $('<div/>');\n",
       "    this._root_extra_style(this.root)\n",
       "    this.root.attr('style', 'display: inline-block');\n",
       "\n",
       "    $(parent_element).append(this.root);\n",
       "\n",
       "    this._init_header(this);\n",
       "    this._init_canvas(this);\n",
       "    this._init_toolbar(this);\n",
       "\n",
       "    var fig = this;\n",
       "\n",
       "    this.waiting = false;\n",
       "\n",
       "    this.ws.onopen =  function () {\n",
       "            fig.send_message(\"supports_binary\", {value: fig.supports_binary});\n",
       "            fig.send_message(\"send_image_mode\", {});\n",
       "            if (mpl.ratio != 1) {\n",
       "                fig.send_message(\"set_dpi_ratio\", {'dpi_ratio': mpl.ratio});\n",
       "            }\n",
       "            fig.send_message(\"refresh\", {});\n",
       "        }\n",
       "\n",
       "    this.imageObj.onload = function() {\n",
       "            if (fig.image_mode == 'full') {\n",
       "                // Full images could contain transparency (where diff images\n",
       "                // almost always do), so we need to clear the canvas so that\n",
       "                // there is no ghosting.\n",
       "                fig.context.clearRect(0, 0, fig.canvas.width, fig.canvas.height);\n",
       "            }\n",
       "            fig.context.drawImage(fig.imageObj, 0, 0);\n",
       "        };\n",
       "\n",
       "    this.imageObj.onunload = function() {\n",
       "        fig.ws.close();\n",
       "    }\n",
       "\n",
       "    this.ws.onmessage = this._make_on_message_function(this);\n",
       "\n",
       "    this.ondownload = ondownload;\n",
       "}\n",
       "\n",
       "mpl.figure.prototype._init_header = function() {\n",
       "    var titlebar = $(\n",
       "        '<div class=\"ui-dialog-titlebar ui-widget-header ui-corner-all ' +\n",
       "        'ui-helper-clearfix\"/>');\n",
       "    var titletext = $(\n",
       "        '<div class=\"ui-dialog-title\" style=\"width: 100%; ' +\n",
       "        'text-align: center; padding: 3px;\"/>');\n",
       "    titlebar.append(titletext)\n",
       "    this.root.append(titlebar);\n",
       "    this.header = titletext[0];\n",
       "}\n",
       "\n",
       "\n",
       "\n",
       "mpl.figure.prototype._canvas_extra_style = function(canvas_div) {\n",
       "\n",
       "}\n",
       "\n",
       "\n",
       "mpl.figure.prototype._root_extra_style = function(canvas_div) {\n",
       "\n",
       "}\n",
       "\n",
       "mpl.figure.prototype._init_canvas = function() {\n",
       "    var fig = this;\n",
       "\n",
       "    var canvas_div = $('<div/>');\n",
       "\n",
       "    canvas_div.attr('style', 'position: relative; clear: both; outline: 0');\n",
       "\n",
       "    function canvas_keyboard_event(event) {\n",
       "        return fig.key_event(event, event['data']);\n",
       "    }\n",
       "\n",
       "    canvas_div.keydown('key_press', canvas_keyboard_event);\n",
       "    canvas_div.keyup('key_release', canvas_keyboard_event);\n",
       "    this.canvas_div = canvas_div\n",
       "    this._canvas_extra_style(canvas_div)\n",
       "    this.root.append(canvas_div);\n",
       "\n",
       "    var canvas = $('<canvas/>');\n",
       "    canvas.addClass('mpl-canvas');\n",
       "    canvas.attr('style', \"left: 0; top: 0; z-index: 0; outline: 0\")\n",
       "\n",
       "    this.canvas = canvas[0];\n",
       "    this.context = canvas[0].getContext(\"2d\");\n",
       "\n",
       "    var backingStore = this.context.backingStorePixelRatio ||\n",
       "\tthis.context.webkitBackingStorePixelRatio ||\n",
       "\tthis.context.mozBackingStorePixelRatio ||\n",
       "\tthis.context.msBackingStorePixelRatio ||\n",
       "\tthis.context.oBackingStorePixelRatio ||\n",
       "\tthis.context.backingStorePixelRatio || 1;\n",
       "\n",
       "    mpl.ratio = (window.devicePixelRatio || 1) / backingStore;\n",
       "\n",
       "    var rubberband = $('<canvas/>');\n",
       "    rubberband.attr('style', \"position: absolute; left: 0; top: 0; z-index: 1;\")\n",
       "\n",
       "    var pass_mouse_events = true;\n",
       "\n",
       "    canvas_div.resizable({\n",
       "        start: function(event, ui) {\n",
       "            pass_mouse_events = false;\n",
       "        },\n",
       "        resize: function(event, ui) {\n",
       "            fig.request_resize(ui.size.width, ui.size.height);\n",
       "        },\n",
       "        stop: function(event, ui) {\n",
       "            pass_mouse_events = true;\n",
       "            fig.request_resize(ui.size.width, ui.size.height);\n",
       "        },\n",
       "    });\n",
       "\n",
       "    function mouse_event_fn(event) {\n",
       "        if (pass_mouse_events)\n",
       "            return fig.mouse_event(event, event['data']);\n",
       "    }\n",
       "\n",
       "    rubberband.mousedown('button_press', mouse_event_fn);\n",
       "    rubberband.mouseup('button_release', mouse_event_fn);\n",
       "    // Throttle sequential mouse events to 1 every 20ms.\n",
       "    rubberband.mousemove('motion_notify', mouse_event_fn);\n",
       "\n",
       "    rubberband.mouseenter('figure_enter', mouse_event_fn);\n",
       "    rubberband.mouseleave('figure_leave', mouse_event_fn);\n",
       "\n",
       "    canvas_div.on(\"wheel\", function (event) {\n",
       "        event = event.originalEvent;\n",
       "        event['data'] = 'scroll'\n",
       "        if (event.deltaY < 0) {\n",
       "            event.step = 1;\n",
       "        } else {\n",
       "            event.step = -1;\n",
       "        }\n",
       "        mouse_event_fn(event);\n",
       "    });\n",
       "\n",
       "    canvas_div.append(canvas);\n",
       "    canvas_div.append(rubberband);\n",
       "\n",
       "    this.rubberband = rubberband;\n",
       "    this.rubberband_canvas = rubberband[0];\n",
       "    this.rubberband_context = rubberband[0].getContext(\"2d\");\n",
       "    this.rubberband_context.strokeStyle = \"#000000\";\n",
       "\n",
       "    this._resize_canvas = function(width, height) {\n",
       "        // Keep the size of the canvas, canvas container, and rubber band\n",
       "        // canvas in synch.\n",
       "        canvas_div.css('width', width)\n",
       "        canvas_div.css('height', height)\n",
       "\n",
       "        canvas.attr('width', width * mpl.ratio);\n",
       "        canvas.attr('height', height * mpl.ratio);\n",
       "        canvas.attr('style', 'width: ' + width + 'px; height: ' + height + 'px;');\n",
       "\n",
       "        rubberband.attr('width', width);\n",
       "        rubberband.attr('height', height);\n",
       "    }\n",
       "\n",
       "    // Set the figure to an initial 600x600px, this will subsequently be updated\n",
       "    // upon first draw.\n",
       "    this._resize_canvas(600, 600);\n",
       "\n",
       "    // Disable right mouse context menu.\n",
       "    $(this.rubberband_canvas).bind(\"contextmenu\",function(e){\n",
       "        return false;\n",
       "    });\n",
       "\n",
       "    function set_focus () {\n",
       "        canvas.focus();\n",
       "        canvas_div.focus();\n",
       "    }\n",
       "\n",
       "    window.setTimeout(set_focus, 100);\n",
       "}\n",
       "\n",
       "mpl.figure.prototype._init_toolbar = function() {\n",
       "    var fig = this;\n",
       "\n",
       "    var nav_element = $('<div/>');\n",
       "    nav_element.attr('style', 'width: 100%');\n",
       "    this.root.append(nav_element);\n",
       "\n",
       "    // Define a callback function for later on.\n",
       "    function toolbar_event(event) {\n",
       "        return fig.toolbar_button_onclick(event['data']);\n",
       "    }\n",
       "    function toolbar_mouse_event(event) {\n",
       "        return fig.toolbar_button_onmouseover(event['data']);\n",
       "    }\n",
       "\n",
       "    for(var toolbar_ind in mpl.toolbar_items) {\n",
       "        var name = mpl.toolbar_items[toolbar_ind][0];\n",
       "        var tooltip = mpl.toolbar_items[toolbar_ind][1];\n",
       "        var image = mpl.toolbar_items[toolbar_ind][2];\n",
       "        var method_name = mpl.toolbar_items[toolbar_ind][3];\n",
       "\n",
       "        if (!name) {\n",
       "            // put a spacer in here.\n",
       "            continue;\n",
       "        }\n",
       "        var button = $('<button/>');\n",
       "        button.addClass('ui-button ui-widget ui-state-default ui-corner-all ' +\n",
       "                        'ui-button-icon-only');\n",
       "        button.attr('role', 'button');\n",
       "        button.attr('aria-disabled', 'false');\n",
       "        button.click(method_name, toolbar_event);\n",
       "        button.mouseover(tooltip, toolbar_mouse_event);\n",
       "\n",
       "        var icon_img = $('<span/>');\n",
       "        icon_img.addClass('ui-button-icon-primary ui-icon');\n",
       "        icon_img.addClass(image);\n",
       "        icon_img.addClass('ui-corner-all');\n",
       "\n",
       "        var tooltip_span = $('<span/>');\n",
       "        tooltip_span.addClass('ui-button-text');\n",
       "        tooltip_span.html(tooltip);\n",
       "\n",
       "        button.append(icon_img);\n",
       "        button.append(tooltip_span);\n",
       "\n",
       "        nav_element.append(button);\n",
       "    }\n",
       "\n",
       "    var fmt_picker_span = $('<span/>');\n",
       "\n",
       "    var fmt_picker = $('<select/>');\n",
       "    fmt_picker.addClass('mpl-toolbar-option ui-widget ui-widget-content');\n",
       "    fmt_picker_span.append(fmt_picker);\n",
       "    nav_element.append(fmt_picker_span);\n",
       "    this.format_dropdown = fmt_picker[0];\n",
       "\n",
       "    for (var ind in mpl.extensions) {\n",
       "        var fmt = mpl.extensions[ind];\n",
       "        var option = $(\n",
       "            '<option/>', {selected: fmt === mpl.default_extension}).html(fmt);\n",
       "        fmt_picker.append(option);\n",
       "    }\n",
       "\n",
       "    // Add hover states to the ui-buttons\n",
       "    $( \".ui-button\" ).hover(\n",
       "        function() { $(this).addClass(\"ui-state-hover\");},\n",
       "        function() { $(this).removeClass(\"ui-state-hover\");}\n",
       "    );\n",
       "\n",
       "    var status_bar = $('<span class=\"mpl-message\"/>');\n",
       "    nav_element.append(status_bar);\n",
       "    this.message = status_bar[0];\n",
       "}\n",
       "\n",
       "mpl.figure.prototype.request_resize = function(x_pixels, y_pixels) {\n",
       "    // Request matplotlib to resize the figure. Matplotlib will then trigger a resize in the client,\n",
       "    // which will in turn request a refresh of the image.\n",
       "    this.send_message('resize', {'width': x_pixels, 'height': y_pixels});\n",
       "}\n",
       "\n",
       "mpl.figure.prototype.send_message = function(type, properties) {\n",
       "    properties['type'] = type;\n",
       "    properties['figure_id'] = this.id;\n",
       "    this.ws.send(JSON.stringify(properties));\n",
       "}\n",
       "\n",
       "mpl.figure.prototype.send_draw_message = function() {\n",
       "    if (!this.waiting) {\n",
       "        this.waiting = true;\n",
       "        this.ws.send(JSON.stringify({type: \"draw\", figure_id: this.id}));\n",
       "    }\n",
       "}\n",
       "\n",
       "\n",
       "mpl.figure.prototype.handle_save = function(fig, msg) {\n",
       "    var format_dropdown = fig.format_dropdown;\n",
       "    var format = format_dropdown.options[format_dropdown.selectedIndex].value;\n",
       "    fig.ondownload(fig, format);\n",
       "}\n",
       "\n",
       "\n",
       "mpl.figure.prototype.handle_resize = function(fig, msg) {\n",
       "    var size = msg['size'];\n",
       "    if (size[0] != fig.canvas.width || size[1] != fig.canvas.height) {\n",
       "        fig._resize_canvas(size[0], size[1]);\n",
       "        fig.send_message(\"refresh\", {});\n",
       "    };\n",
       "}\n",
       "\n",
       "mpl.figure.prototype.handle_rubberband = function(fig, msg) {\n",
       "    var x0 = msg['x0'] / mpl.ratio;\n",
       "    var y0 = (fig.canvas.height - msg['y0']) / mpl.ratio;\n",
       "    var x1 = msg['x1'] / mpl.ratio;\n",
       "    var y1 = (fig.canvas.height - msg['y1']) / mpl.ratio;\n",
       "    x0 = Math.floor(x0) + 0.5;\n",
       "    y0 = Math.floor(y0) + 0.5;\n",
       "    x1 = Math.floor(x1) + 0.5;\n",
       "    y1 = Math.floor(y1) + 0.5;\n",
       "    var min_x = Math.min(x0, x1);\n",
       "    var min_y = Math.min(y0, y1);\n",
       "    var width = Math.abs(x1 - x0);\n",
       "    var height = Math.abs(y1 - y0);\n",
       "\n",
       "    fig.rubberband_context.clearRect(\n",
       "        0, 0, fig.canvas.width / mpl.ratio, fig.canvas.height / mpl.ratio);\n",
       "\n",
       "    fig.rubberband_context.strokeRect(min_x, min_y, width, height);\n",
       "}\n",
       "\n",
       "mpl.figure.prototype.handle_figure_label = function(fig, msg) {\n",
       "    // Updates the figure title.\n",
       "    fig.header.textContent = msg['label'];\n",
       "}\n",
       "\n",
       "mpl.figure.prototype.handle_cursor = function(fig, msg) {\n",
       "    var cursor = msg['cursor'];\n",
       "    switch(cursor)\n",
       "    {\n",
       "    case 0:\n",
       "        cursor = 'pointer';\n",
       "        break;\n",
       "    case 1:\n",
       "        cursor = 'default';\n",
       "        break;\n",
       "    case 2:\n",
       "        cursor = 'crosshair';\n",
       "        break;\n",
       "    case 3:\n",
       "        cursor = 'move';\n",
       "        break;\n",
       "    }\n",
       "    fig.rubberband_canvas.style.cursor = cursor;\n",
       "}\n",
       "\n",
       "mpl.figure.prototype.handle_message = function(fig, msg) {\n",
       "    fig.message.textContent = msg['message'];\n",
       "}\n",
       "\n",
       "mpl.figure.prototype.handle_draw = function(fig, msg) {\n",
       "    // Request the server to send over a new figure.\n",
       "    fig.send_draw_message();\n",
       "}\n",
       "\n",
       "mpl.figure.prototype.handle_image_mode = function(fig, msg) {\n",
       "    fig.image_mode = msg['mode'];\n",
       "}\n",
       "\n",
       "mpl.figure.prototype.updated_canvas_event = function() {\n",
       "    // Called whenever the canvas gets updated.\n",
       "    this.send_message(\"ack\", {});\n",
       "}\n",
       "\n",
       "// A function to construct a web socket function for onmessage handling.\n",
       "// Called in the figure constructor.\n",
       "mpl.figure.prototype._make_on_message_function = function(fig) {\n",
       "    return function socket_on_message(evt) {\n",
       "        if (evt.data instanceof Blob) {\n",
       "            /* FIXME: We get \"Resource interpreted as Image but\n",
       "             * transferred with MIME type text/plain:\" errors on\n",
       "             * Chrome.  But how to set the MIME type?  It doesn't seem\n",
       "             * to be part of the websocket stream */\n",
       "            evt.data.type = \"image/png\";\n",
       "\n",
       "            /* Free the memory for the previous frames */\n",
       "            if (fig.imageObj.src) {\n",
       "                (window.URL || window.webkitURL).revokeObjectURL(\n",
       "                    fig.imageObj.src);\n",
       "            }\n",
       "\n",
       "            fig.imageObj.src = (window.URL || window.webkitURL).createObjectURL(\n",
       "                evt.data);\n",
       "            fig.updated_canvas_event();\n",
       "            fig.waiting = false;\n",
       "            return;\n",
       "        }\n",
       "        else if (typeof evt.data === 'string' && evt.data.slice(0, 21) == \"data:image/png;base64\") {\n",
       "            fig.imageObj.src = evt.data;\n",
       "            fig.updated_canvas_event();\n",
       "            fig.waiting = false;\n",
       "            return;\n",
       "        }\n",
       "\n",
       "        var msg = JSON.parse(evt.data);\n",
       "        var msg_type = msg['type'];\n",
       "\n",
       "        // Call the  \"handle_{type}\" callback, which takes\n",
       "        // the figure and JSON message as its only arguments.\n",
       "        try {\n",
       "            var callback = fig[\"handle_\" + msg_type];\n",
       "        } catch (e) {\n",
       "            console.log(\"No handler for the '\" + msg_type + \"' message type: \", msg);\n",
       "            return;\n",
       "        }\n",
       "\n",
       "        if (callback) {\n",
       "            try {\n",
       "                // console.log(\"Handling '\" + msg_type + \"' message: \", msg);\n",
       "                callback(fig, msg);\n",
       "            } catch (e) {\n",
       "                console.log(\"Exception inside the 'handler_\" + msg_type + \"' callback:\", e, e.stack, msg);\n",
       "            }\n",
       "        }\n",
       "    };\n",
       "}\n",
       "\n",
       "// from http://stackoverflow.com/questions/1114465/getting-mouse-location-in-canvas\n",
       "mpl.findpos = function(e) {\n",
       "    //this section is from http://www.quirksmode.org/js/events_properties.html\n",
       "    var targ;\n",
       "    if (!e)\n",
       "        e = window.event;\n",
       "    if (e.target)\n",
       "        targ = e.target;\n",
       "    else if (e.srcElement)\n",
       "        targ = e.srcElement;\n",
       "    if (targ.nodeType == 3) // defeat Safari bug\n",
       "        targ = targ.parentNode;\n",
       "\n",
       "    // jQuery normalizes the pageX and pageY\n",
       "    // pageX,Y are the mouse positions relative to the document\n",
       "    // offset() returns the position of the element relative to the document\n",
       "    var x = e.pageX - $(targ).offset().left;\n",
       "    var y = e.pageY - $(targ).offset().top;\n",
       "\n",
       "    return {\"x\": x, \"y\": y};\n",
       "};\n",
       "\n",
       "/*\n",
       " * return a copy of an object with only non-object keys\n",
       " * we need this to avoid circular references\n",
       " * http://stackoverflow.com/a/24161582/3208463\n",
       " */\n",
       "function simpleKeys (original) {\n",
       "  return Object.keys(original).reduce(function (obj, key) {\n",
       "    if (typeof original[key] !== 'object')\n",
       "        obj[key] = original[key]\n",
       "    return obj;\n",
       "  }, {});\n",
       "}\n",
       "\n",
       "mpl.figure.prototype.mouse_event = function(event, name) {\n",
       "    var canvas_pos = mpl.findpos(event)\n",
       "\n",
       "    if (name === 'button_press')\n",
       "    {\n",
       "        this.canvas.focus();\n",
       "        this.canvas_div.focus();\n",
       "    }\n",
       "\n",
       "    var x = canvas_pos.x * mpl.ratio;\n",
       "    var y = canvas_pos.y * mpl.ratio;\n",
       "\n",
       "    this.send_message(name, {x: x, y: y, button: event.button,\n",
       "                             step: event.step,\n",
       "                             guiEvent: simpleKeys(event)});\n",
       "\n",
       "    /* This prevents the web browser from automatically changing to\n",
       "     * the text insertion cursor when the button is pressed.  We want\n",
       "     * to control all of the cursor setting manually through the\n",
       "     * 'cursor' event from matplotlib */\n",
       "    event.preventDefault();\n",
       "    return false;\n",
       "}\n",
       "\n",
       "mpl.figure.prototype._key_event_extra = function(event, name) {\n",
       "    // Handle any extra behaviour associated with a key event\n",
       "}\n",
       "\n",
       "mpl.figure.prototype.key_event = function(event, name) {\n",
       "\n",
       "    // Prevent repeat events\n",
       "    if (name == 'key_press')\n",
       "    {\n",
       "        if (event.which === this._key)\n",
       "            return;\n",
       "        else\n",
       "            this._key = event.which;\n",
       "    }\n",
       "    if (name == 'key_release')\n",
       "        this._key = null;\n",
       "\n",
       "    var value = '';\n",
       "    if (event.ctrlKey && event.which != 17)\n",
       "        value += \"ctrl+\";\n",
       "    if (event.altKey && event.which != 18)\n",
       "        value += \"alt+\";\n",
       "    if (event.shiftKey && event.which != 16)\n",
       "        value += \"shift+\";\n",
       "\n",
       "    value += 'k';\n",
       "    value += event.which.toString();\n",
       "\n",
       "    this._key_event_extra(event, name);\n",
       "\n",
       "    this.send_message(name, {key: value,\n",
       "                             guiEvent: simpleKeys(event)});\n",
       "    return false;\n",
       "}\n",
       "\n",
       "mpl.figure.prototype.toolbar_button_onclick = function(name) {\n",
       "    if (name == 'download') {\n",
       "        this.handle_save(this, null);\n",
       "    } else {\n",
       "        this.send_message(\"toolbar_button\", {name: name});\n",
       "    }\n",
       "};\n",
       "\n",
       "mpl.figure.prototype.toolbar_button_onmouseover = function(tooltip) {\n",
       "    this.message.textContent = tooltip;\n",
       "};\n",
       "mpl.toolbar_items = [[\"Home\", \"Reset original view\", \"fa fa-home icon-home\", \"home\"], [\"Back\", \"Back to previous view\", \"fa fa-arrow-left icon-arrow-left\", \"back\"], [\"Forward\", \"Forward to next view\", \"fa fa-arrow-right icon-arrow-right\", \"forward\"], [\"\", \"\", \"\", \"\"], [\"Pan\", \"Pan axes with left mouse, zoom with right\", \"fa fa-arrows icon-move\", \"pan\"], [\"Zoom\", \"Zoom to rectangle\", \"fa fa-square-o icon-check-empty\", \"zoom\"], [\"\", \"\", \"\", \"\"], [\"Download\", \"Download plot\", \"fa fa-floppy-o icon-save\", \"download\"]];\n",
       "\n",
       "mpl.extensions = [\"eps\", \"jpeg\", \"pdf\", \"png\", \"ps\", \"raw\", \"svg\", \"tif\"];\n",
       "\n",
       "mpl.default_extension = \"png\";var comm_websocket_adapter = function(comm) {\n",
       "    // Create a \"websocket\"-like object which calls the given IPython comm\n",
       "    // object with the appropriate methods. Currently this is a non binary\n",
       "    // socket, so there is still some room for performance tuning.\n",
       "    var ws = {};\n",
       "\n",
       "    ws.close = function() {\n",
       "        comm.close()\n",
       "    };\n",
       "    ws.send = function(m) {\n",
       "        //console.log('sending', m);\n",
       "        comm.send(m);\n",
       "    };\n",
       "    // Register the callback with on_msg.\n",
       "    comm.on_msg(function(msg) {\n",
       "        //console.log('receiving', msg['content']['data'], msg);\n",
       "        // Pass the mpl event to the overridden (by mpl) onmessage function.\n",
       "        ws.onmessage(msg['content']['data'])\n",
       "    });\n",
       "    return ws;\n",
       "}\n",
       "\n",
       "mpl.mpl_figure_comm = function(comm, msg) {\n",
       "    // This is the function which gets called when the mpl process\n",
       "    // starts-up an IPython Comm through the \"matplotlib\" channel.\n",
       "\n",
       "    var id = msg.content.data.id;\n",
       "    // Get hold of the div created by the display call when the Comm\n",
       "    // socket was opened in Python.\n",
       "    var element = $(\"#\" + id);\n",
       "    var ws_proxy = comm_websocket_adapter(comm)\n",
       "\n",
       "    function ondownload(figure, format) {\n",
       "        window.open(figure.imageObj.src);\n",
       "    }\n",
       "\n",
       "    var fig = new mpl.figure(id, ws_proxy,\n",
       "                           ondownload,\n",
       "                           element.get(0));\n",
       "\n",
       "    // Call onopen now - mpl needs it, as it is assuming we've passed it a real\n",
       "    // web socket which is closed, not our websocket->open comm proxy.\n",
       "    ws_proxy.onopen();\n",
       "\n",
       "    fig.parent_element = element.get(0);\n",
       "    fig.cell_info = mpl.find_output_cell(\"<div id='\" + id + \"'></div>\");\n",
       "    if (!fig.cell_info) {\n",
       "        console.error(\"Failed to find cell for figure\", id, fig);\n",
       "        return;\n",
       "    }\n",
       "\n",
       "    var output_index = fig.cell_info[2]\n",
       "    var cell = fig.cell_info[0];\n",
       "\n",
       "};\n",
       "\n",
       "mpl.figure.prototype.handle_close = function(fig, msg) {\n",
       "    var width = fig.canvas.width/mpl.ratio\n",
       "    fig.root.unbind('remove')\n",
       "\n",
       "    // Update the output cell to use the data from the current canvas.\n",
       "    fig.push_to_output();\n",
       "    var dataURL = fig.canvas.toDataURL();\n",
       "    // Re-enable the keyboard manager in IPython - without this line, in FF,\n",
       "    // the notebook keyboard shortcuts fail.\n",
       "    IPython.keyboard_manager.enable()\n",
       "    $(fig.parent_element).html('<img src=\"' + dataURL + '\" width=\"' + width + '\">');\n",
       "    fig.close_ws(fig, msg);\n",
       "}\n",
       "\n",
       "mpl.figure.prototype.close_ws = function(fig, msg){\n",
       "    fig.send_message('closing', msg);\n",
       "    // fig.ws.close()\n",
       "}\n",
       "\n",
       "mpl.figure.prototype.push_to_output = function(remove_interactive) {\n",
       "    // Turn the data on the canvas into data in the output cell.\n",
       "    var width = this.canvas.width/mpl.ratio\n",
       "    var dataURL = this.canvas.toDataURL();\n",
       "    this.cell_info[1]['text/html'] = '<img src=\"' + dataURL + '\" width=\"' + width + '\">';\n",
       "}\n",
       "\n",
       "mpl.figure.prototype.updated_canvas_event = function() {\n",
       "    // Tell IPython that the notebook contents must change.\n",
       "    IPython.notebook.set_dirty(true);\n",
       "    this.send_message(\"ack\", {});\n",
       "    var fig = this;\n",
       "    // Wait a second, then push the new image to the DOM so\n",
       "    // that it is saved nicely (might be nice to debounce this).\n",
       "    setTimeout(function () { fig.push_to_output() }, 1000);\n",
       "}\n",
       "\n",
       "mpl.figure.prototype._init_toolbar = function() {\n",
       "    var fig = this;\n",
       "\n",
       "    var nav_element = $('<div/>');\n",
       "    nav_element.attr('style', 'width: 100%');\n",
       "    this.root.append(nav_element);\n",
       "\n",
       "    // Define a callback function for later on.\n",
       "    function toolbar_event(event) {\n",
       "        return fig.toolbar_button_onclick(event['data']);\n",
       "    }\n",
       "    function toolbar_mouse_event(event) {\n",
       "        return fig.toolbar_button_onmouseover(event['data']);\n",
       "    }\n",
       "\n",
       "    for(var toolbar_ind in mpl.toolbar_items){\n",
       "        var name = mpl.toolbar_items[toolbar_ind][0];\n",
       "        var tooltip = mpl.toolbar_items[toolbar_ind][1];\n",
       "        var image = mpl.toolbar_items[toolbar_ind][2];\n",
       "        var method_name = mpl.toolbar_items[toolbar_ind][3];\n",
       "\n",
       "        if (!name) { continue; };\n",
       "\n",
       "        var button = $('<button class=\"btn btn-default\" href=\"#\" title=\"' + name + '\"><i class=\"fa ' + image + ' fa-lg\"></i></button>');\n",
       "        button.click(method_name, toolbar_event);\n",
       "        button.mouseover(tooltip, toolbar_mouse_event);\n",
       "        nav_element.append(button);\n",
       "    }\n",
       "\n",
       "    // Add the status bar.\n",
       "    var status_bar = $('<span class=\"mpl-message\" style=\"text-align:right; float: right;\"/>');\n",
       "    nav_element.append(status_bar);\n",
       "    this.message = status_bar[0];\n",
       "\n",
       "    // Add the close button to the window.\n",
       "    var buttongrp = $('<div class=\"btn-group inline pull-right\"></div>');\n",
       "    var button = $('<button class=\"btn btn-mini btn-primary\" href=\"#\" title=\"Stop Interaction\"><i class=\"fa fa-power-off icon-remove icon-large\"></i></button>');\n",
       "    button.click(function (evt) { fig.handle_close(fig, {}); } );\n",
       "    button.mouseover('Stop Interaction', toolbar_mouse_event);\n",
       "    buttongrp.append(button);\n",
       "    var titlebar = this.root.find($('.ui-dialog-titlebar'));\n",
       "    titlebar.prepend(buttongrp);\n",
       "}\n",
       "\n",
       "mpl.figure.prototype._root_extra_style = function(el){\n",
       "    var fig = this\n",
       "    el.on(\"remove\", function(){\n",
       "\tfig.close_ws(fig, {});\n",
       "    });\n",
       "}\n",
       "\n",
       "mpl.figure.prototype._canvas_extra_style = function(el){\n",
       "    // this is important to make the div 'focusable\n",
       "    el.attr('tabindex', 0)\n",
       "    // reach out to IPython and tell the keyboard manager to turn it's self\n",
       "    // off when our div gets focus\n",
       "\n",
       "    // location in version 3\n",
       "    if (IPython.notebook.keyboard_manager) {\n",
       "        IPython.notebook.keyboard_manager.register_events(el);\n",
       "    }\n",
       "    else {\n",
       "        // location in version 2\n",
       "        IPython.keyboard_manager.register_events(el);\n",
       "    }\n",
       "\n",
       "}\n",
       "\n",
       "mpl.figure.prototype._key_event_extra = function(event, name) {\n",
       "    var manager = IPython.notebook.keyboard_manager;\n",
       "    if (!manager)\n",
       "        manager = IPython.keyboard_manager;\n",
       "\n",
       "    // Check for shift+enter\n",
       "    if (event.shiftKey && event.which == 13) {\n",
       "        this.canvas_div.blur();\n",
       "        event.shiftKey = false;\n",
       "        // Send a \"J\" for go to next cell\n",
       "        event.which = 74;\n",
       "        event.keyCode = 74;\n",
       "        manager.command_mode();\n",
       "        manager.handle_keydown(event);\n",
       "    }\n",
       "}\n",
       "\n",
       "mpl.figure.prototype.handle_save = function(fig, msg) {\n",
       "    fig.ondownload(fig, null);\n",
       "}\n",
       "\n",
       "\n",
       "mpl.find_output_cell = function(html_output) {\n",
       "    // Return the cell and output element which can be found *uniquely* in the notebook.\n",
       "    // Note - this is a bit hacky, but it is done because the \"notebook_saving.Notebook\"\n",
       "    // IPython event is triggered only after the cells have been serialised, which for\n",
       "    // our purposes (turning an active figure into a static one), is too late.\n",
       "    var cells = IPython.notebook.get_cells();\n",
       "    var ncells = cells.length;\n",
       "    for (var i=0; i<ncells; i++) {\n",
       "        var cell = cells[i];\n",
       "        if (cell.cell_type === 'code'){\n",
       "            for (var j=0; j<cell.output_area.outputs.length; j++) {\n",
       "                var data = cell.output_area.outputs[j];\n",
       "                if (data.data) {\n",
       "                    // IPython >= 3 moved mimebundle to data attribute of output\n",
       "                    data = data.data;\n",
       "                }\n",
       "                if (data['text/html'] == html_output) {\n",
       "                    return [cell, data, j];\n",
       "                }\n",
       "            }\n",
       "        }\n",
       "    }\n",
       "}\n",
       "\n",
       "// Register the function which deals with the matplotlib target/channel.\n",
       "// The kernel may be null if the page has been refreshed.\n",
       "if (IPython.notebook.kernel != null) {\n",
       "    IPython.notebook.kernel.comm_manager.register_target('matplotlib', mpl.mpl_figure_comm);\n",
       "}\n"
      ],
      "text/plain": [
       "<IPython.core.display.Javascript object>"
      ]
     },
     "metadata": {},
     "output_type": "display_data"
    },
    {
     "data": {
      "text/html": [
       "<img src=\"data:image/png;base64,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\" width=\"1200\">"
      ],
      "text/plain": [
       "<IPython.core.display.HTML object>"
      ]
     },
     "metadata": {},
     "output_type": "display_data"
    },
    {
     "name": "stdout",
     "output_type": "stream",
     "text": [
      "Good item density: 0.11547821547594579\n"
     ]
    }
   ],
   "source": [
    "plot_average_rating_hists(rating_matrix, bins=None)\n",
    "print(\"Good item density: {}\".format(np.sum(rating_matrix > 4) / np.prod(rating_matrix.shape)))"
   ]
  },
  {
   "cell_type": "code",
   "execution_count": null,
   "metadata": {},
   "outputs": [],
   "source": []
  }
 ],
 "metadata": {
  "kernelspec": {
   "display_name": "Python 3",
   "language": "python",
   "name": "python3"
  },
  "language_info": {
   "codemirror_mode": {
    "name": "ipython",
    "version": 3
   },
   "file_extension": ".py",
   "mimetype": "text/x-python",
   "name": "python",
   "nbconvert_exporter": "python",
   "pygments_lexer": "ipython3",
   "version": "3.7.4"
  }
 },
 "nbformat": 4,
 "nbformat_minor": 2
}
