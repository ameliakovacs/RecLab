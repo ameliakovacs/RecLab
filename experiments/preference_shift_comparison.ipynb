{
 "cells": [
  {
   "cell_type": "code",
   "execution_count": 1,
   "metadata": {
    "scrolled": true
   },
   "outputs": [
    {
     "name": "stderr",
     "output_type": "stream",
     "text": [
      "/Users/wenshuoguo/Documents/GitHub/recsys-eval/experiments/run_utils.py:17: TqdmExperimentalWarning: Using `tqdm.autonotebook.tqdm` in notebook mode. Use `tqdm.tqdm` instead to force console mode (e.g. in jupyter console)\n",
      "  import tqdm.autonotebook\n",
      "Using TensorFlow backend.\n"
     ]
    }
   ],
   "source": [
    "import random\n",
    "import numpy as np\n",
    "import matplotlib.pyplot as plt\n",
    "import sys\n",
    "\n",
    "sys.path.append('../') \n",
    "from run_utils import get_env_dataset, run_env_experiment, plot_ratings_mses, s3_experiment_dir_name\n",
    "from env_defaults import TOPICS_STATIC, get_len_trial\n",
    "from reclab.environments import Topics\n",
    "\n",
    "from reclab.recommenders import LibFM\n",
    "from reclab.recommenders import KNNRecommender\n",
    "from reclab.recommenders import TopPop\n"
   ]
  },
  {
   "cell_type": "markdown",
   "metadata": {},
   "source": [
    "# Behavior with user preference shift"
   ]
  },
  {
   "cell_type": "code",
   "execution_count": 2,
   "metadata": {},
   "outputs": [],
   "source": [
    "## Key Parameters across all settings\n",
    "bucket_name = 'recsys-eval'\n",
    "data_dir = 'Wenshuo_dynamic'\n",
    "overwrite = True\n",
    "\n",
    "# Experiment setup.\n",
    "num_users = TOPICS_STATIC['params']['num_users']\n",
    "num_init_ratings = TOPICS_STATIC['optional_params']['num_init_ratings']\n",
    "num_final_ratings = TOPICS_STATIC['misc']['num_final_ratings']\n",
    "rating_frequency = TOPICS_STATIC['optional_params']['rating_frequency']\n",
    "\n",
    "n_trials = 11\n",
    "len_trial = get_len_trial(TOPICS_STATIC)\n",
    "trial_seeds = [i for i in range(n_trials)]\n",
    "\n",
    "# Environment setup\n",
    "environment_name = TOPICS_STATIC['name']\n",
    "env = Topics(**TOPICS_STATIC['params'], **TOPICS_STATIC['optional_params'])\n",
    "\n",
    "# Recommender setup\n",
    "recommender_name = 'LibFM (SGD)'\n",
    "recommender_class = LibFM"
   ]
  },
  {
   "cell_type": "code",
   "execution_count": 3,
   "metadata": {},
   "outputs": [],
   "source": [
    "# ====Step 5====\n",
    "starting_data = get_env_dataset(env)"
   ]
  },
  {
   "cell_type": "code",
   "execution_count": 4,
   "metadata": {},
   "outputs": [],
   "source": [
    "# Set parameters based on tuning\n",
    "num_two_way_factors = 20\n",
    "num_iter = 200\n",
    "init_stdev = 1.0\n",
    "reg = 0.01\n",
    "lr = 0.001"
   ]
  },
  {
   "cell_type": "code",
   "execution_count": 5,
   "metadata": {},
   "outputs": [],
   "source": [
    "default_params = dict(num_user_features=0,\n",
    "                      num_item_features=0,\n",
    "                      num_rating_features=0,\n",
    "                      max_num_users=num_users,\n",
    "                      max_num_items=TOPICS_STATIC['params']['num_items'],\n",
    "                      method='sgd')\n",
    "\n",
    "recommender = recommender_class(num_iter=num_iter,\n",
    "                                num_two_way_factors=num_two_way_factors,\n",
    "                                init_stdev=init_stdev,\n",
    "                                reg=reg,\n",
    "                                learning_rate=lr,\n",
    "                                **default_params)"
   ]
  },
  {
   "cell_type": "code",
   "execution_count": null,
   "metadata": {},
   "outputs": [
    {
     "name": "stdout",
     "output_type": "stream",
     "text": [
      "Started experiments on environment: topics_static\n",
      "\tInitial density: 5.88235294117647%, Final density: 11.76470588235294%, Good item density: 29.654588235294117%\n",
      "Running trials for recommender: LibFM (SGD)\n",
      "Running trial with seed: 0\n"
     ]
    },
    {
     "data": {
      "application/vnd.jupyter.widget-view+json": {
       "model_id": "ae72fdb9d2b3445a98e03d3491990ce8",
       "version_major": 2,
       "version_minor": 0
      },
      "text/plain": [
       "HBox(children=(FloatProgress(value=0.0, max=500.0), HTML(value='')))"
      ]
     },
     "metadata": {},
     "output_type": "display_data"
    },
    {
     "name": "stdout",
     "output_type": "stream",
     "text": [
      "Applying preference shift at step  10\n"
     ]
    }
   ],
   "source": [
    "for i, seed in enumerate(trial_seeds):\n",
    "    run_env_experiment(\n",
    "            [env],\n",
    "            [recommender],\n",
    "            [seed],\n",
    "            len_trial,\n",
    "            environment_names=[environment_name],\n",
    "            recommender_names=[recommender_name],\n",
    "            bucket_name=bucket_name,\n",
    "            data_dir=data_dir,\n",
    "            overwrite=overwrite, shift=True, shift_step=10)"
   ]
  },
  {
   "cell_type": "code",
   "execution_count": null,
   "metadata": {},
   "outputs": [],
   "source": [
    "# Recommender setup\n",
    "recommender_name = 'ItemKnn'\n",
    "recommender_class = KNNRecommender"
   ]
  },
  {
   "cell_type": "code",
   "execution_count": null,
   "metadata": {},
   "outputs": [],
   "source": [
    "neighborhood_size = 250\n",
    "shrinkage = 0\n",
    "recommender = recommender_class(shrinkage=shrinkage, neighborhood_size=neighborhood_size)\n",
    "for i, seed in enumerate(trial_seeds):\n",
    "    run_env_experiment(\n",
    "            [env],\n",
    "            [recommender],\n",
    "            [seed],\n",
    "            len_trial,\n",
    "            environment_names=[environment_name],\n",
    "            recommender_names=[recommender_name],\n",
    "            bucket_name=bucket_name,\n",
    "            data_dir=data_dir,\n",
    "            overwrite=overwrite,shift=True, shift_step=10)"
   ]
  },
  {
   "cell_type": "code",
   "execution_count": null,
   "metadata": {},
   "outputs": [],
   "source": [
    "from reclab.recommenders import PerfectRec\n",
    "\n",
    "# Recommender setup\n",
    "recommender_name = 'PerfectRec'\n",
    "recommender_class = PerfectRec\n",
    "\n",
    "def rating_func():\n",
    "    ratings = env.dense_ratings\n",
    "    return ratings\n",
    "\n",
    "recommender = recommender_class(rating_func)\n",
    "for i, seed in enumerate(trial_seeds):\n",
    "    run_env_experiment(\n",
    "            [env],\n",
    "            [recommender],\n",
    "            [seed],\n",
    "            len_trial,\n",
    "            environment_names=[environment_name],\n",
    "            recommender_names=[recommender_name],\n",
    "            bucket_name=bucket_name,\n",
    "            data_dir=data_dir,\n",
    "            overwrite=overwrite, shift=True, shift_step=10)"
   ]
  },
  {
   "cell_type": "code",
   "execution_count": null,
   "metadata": {},
   "outputs": [],
   "source": [
    "\n",
    "# Recommender setup\n",
    "recommender_name = 'TopPop'\n",
    "recommender_class = TopPop\n",
    "recommender = recommender_class()\n",
    "\n",
    "for i, seed in enumerate(trial_seeds):\n",
    "    run_env_experiment(\n",
    "            [env],\n",
    "            [recommender],\n",
    "            [seed],\n",
    "            len_trial,\n",
    "            environment_names=[environment_name],\n",
    "            recommender_names=[recommender_name],\n",
    "            bucket_name=bucket_name,\n",
    "            data_dir=data_dir,\n",
    "            overwrite=overwrite, shift=True, shift_step=10)"
   ]
  },
  {
   "cell_type": "code",
   "execution_count": null,
   "metadata": {},
   "outputs": [],
   "source": []
  }
 ],
 "metadata": {
  "kernelspec": {
   "display_name": "Python 3",
   "language": "python",
   "name": "python3"
  },
  "language_info": {
   "codemirror_mode": {
    "name": "ipython",
    "version": 3
   },
   "file_extension": ".py",
   "mimetype": "text/x-python",
   "name": "python",
   "nbconvert_exporter": "python",
   "pygments_lexer": "ipython3",
   "version": "3.7.6"
  }
 },
 "nbformat": 4,
 "nbformat_minor": 4
}
