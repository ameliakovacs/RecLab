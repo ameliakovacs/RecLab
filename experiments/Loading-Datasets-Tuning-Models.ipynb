{
 "cells": [
  {
   "cell_type": "code",
   "execution_count": 1,
   "metadata": {},
   "outputs": [],
   "source": [
    "import numpy as np\n",
    "import sys\n",
    "\n",
    "import run_utils\n",
    "\n",
    "sys.path.append('../') \n",
    "\n",
    "from reclab.recommenders import LibFM\n",
    "from reclab import data_utils"
   ]
  },
  {
   "cell_type": "markdown",
   "metadata": {},
   "source": [
    "# ML 100k\n",
    "\n",
    "loading and tuning\n"
   ]
  },
  {
   "cell_type": "code",
   "execution_count": 2,
   "metadata": {},
   "outputs": [],
   "source": [
    "users, items, ratings = data_utils.read_dataset('ml-100k')\n",
    "\n",
    "default_params = dict(num_two_way_factors=32, learning_rate=0.1,\n",
    "              bias_reg=0., one_way_reg=0., two_way_reg=0., \n",
    "              num_iter=100)\n",
    "\n",
    "tuner = run_utils.ModelTuner((users, items, ratings), default_params,\n",
    "                             n_fold=5, verbose=True)"
   ]
  },
  {
   "cell_type": "code",
   "execution_count": 3,
   "metadata": {
    "scrolled": false
   },
   "outputs": [
    {
     "name": "stdout",
     "output_type": "stream",
     "text": [
      "Evaluating: {'bias_reg': 0.01, 'one_way_reg': 0.01, 'two_way_reg': 0.01, 'learning_rate': 0.1}\n",
      "Fold 1/5, mse=1.6129939288052795\n",
      "Fold 2/5, mse=1.5698445700262185\n",
      "Fold 3/5, mse=1.6360906188266382\n",
      "Fold 4/5, mse=1.592378409724719\n",
      "Fold 5/5, mse=1.5855963847549182\n",
      "Average MSE: 1.5993807824275548\n",
      "Evaluating: {'bias_reg': 0.01, 'one_way_reg': 0.01, 'two_way_reg': 0.01, 'learning_rate': 0.05}\n",
      "Fold 1/5, mse=1.4298636813965808\n",
      "Fold 2/5, mse=1.3854496071580567\n",
      "Fold 3/5, mse=1.4323630796245608\n",
      "Fold 4/5, mse=1.4599172406834153\n",
      "Fold 5/5, mse=1.4753955300202142\n",
      "Average MSE: 1.4365978277765656\n",
      "Evaluating: {'bias_reg': 0.01, 'one_way_reg': 0.01, 'two_way_reg': 0.01, 'learning_rate': 0.01}\n",
      "Fold 1/5, mse=1.245218068886789\n",
      "Fold 2/5, mse=1.205741556626909\n",
      "Fold 3/5, mse=1.2472359511277094\n",
      "Fold 4/5, mse=1.2442533299953225\n",
      "Fold 5/5, mse=1.244059721376039\n",
      "Average MSE: 1.2373017256025538\n",
      "Evaluating: {'bias_reg': 0.01, 'one_way_reg': 0.01, 'two_way_reg': 0.01, 'learning_rate': 0.005}\n",
      "Fold 1/5, mse=1.1298337601471513\n",
      "Fold 2/5, mse=1.0995650218375013\n",
      "Fold 3/5, mse=1.133298480824003\n",
      "Fold 4/5, mse=1.12105529725958\n",
      "Fold 5/5, mse=1.1269608927399946\n",
      "Average MSE: 1.1221426905616458\n",
      "Evaluating: {'bias_reg': 0.1, 'one_way_reg': 0.1, 'two_way_reg': 0.1, 'learning_rate': 0.1}\n",
      "Fold 1/5, mse=0.9408951624236818\n",
      "Fold 2/5, mse=0.9521027542434176\n",
      "Fold 3/5, mse=0.989074786338635\n",
      "Fold 4/5, mse=0.9687718156328617\n",
      "Fold 5/5, mse=0.9970937855480363\n",
      "Average MSE: 0.9695876608373265\n",
      "Evaluating: {'bias_reg': 0.1, 'one_way_reg': 0.1, 'two_way_reg': 0.1, 'learning_rate': 0.05}\n",
      "Fold 1/5, mse=0.8531416326592264\n",
      "Fold 2/5, mse=0.8361762148891947\n",
      "Fold 3/5, mse=0.8790260915908835\n",
      "Fold 4/5, mse=0.8477222046790077\n",
      "Fold 5/5, mse=0.8958334043492163\n",
      "Average MSE: 0.8623799096335057\n",
      "Evaluating: {'bias_reg': 0.1, 'one_way_reg': 0.1, 'two_way_reg': 0.1, 'learning_rate': 0.01}\n",
      "Fold 1/5, mse=0.8205176228724688\n",
      "Fold 2/5, mse=0.8000244716101177\n",
      "Fold 3/5, mse=0.8331275862173015\n",
      "Fold 4/5, mse=0.8168659831378221\n",
      "Fold 5/5, mse=0.852571531309266\n",
      "Average MSE: 0.8246214390293952\n",
      "Evaluating: {'bias_reg': 0.1, 'one_way_reg': 0.1, 'two_way_reg': 0.1, 'learning_rate': 0.005}\n",
      "Fold 1/5, mse=0.8177890119897001\n",
      "Fold 2/5, mse=0.7957316655885688\n",
      "Fold 3/5, mse=0.8314082640809148\n",
      "Fold 4/5, mse=0.8137828786603692\n",
      "Fold 5/5, mse=0.8397036358374006\n",
      "Average MSE: 0.8196830912313906\n",
      "Evaluating: {'bias_reg': 0.5, 'one_way_reg': 0.5, 'two_way_reg': 0.5, 'learning_rate': 0.1}\n",
      "Fold 1/5, mse=0.9848853222191503\n",
      "Fold 2/5, mse=0.9710344609937888\n",
      "Fold 3/5, mse=1.0093782140131835\n",
      "Fold 4/5, mse=0.9842752576817436\n",
      "Fold 5/5, mse=1.2731368968319243\n",
      "Average MSE: 1.0445420303479582\n",
      "Evaluating: {'bias_reg': 0.5, 'one_way_reg': 0.5, 'two_way_reg': 0.5, 'learning_rate': 0.05}\n",
      "Fold 1/5, mse=0.9861526548264358\n",
      "Fold 2/5, mse=0.972003538504881\n",
      "Fold 3/5, mse=1.0073433754847252\n",
      "Fold 4/5, mse=0.9891312890278623\n",
      "Fold 5/5, mse=1.1964272164518577\n",
      "Average MSE: 1.0302116148591522\n",
      "Evaluating: {'bias_reg': 0.5, 'one_way_reg': 0.5, 'two_way_reg': 0.5, 'learning_rate': 0.01}\n",
      "Fold 1/5, mse=1.052935128226817\n",
      "Fold 2/5, mse=1.041817209115273\n",
      "Fold 3/5, mse=1.0709456432706772\n",
      "Fold 4/5, mse=1.0627283389611606\n",
      "Fold 5/5, mse=1.1827122701205504\n",
      "Average MSE: 1.0822277179388957\n",
      "Evaluating: {'bias_reg': 0.5, 'one_way_reg': 0.5, 'two_way_reg': 0.5, 'learning_rate': 0.005}\n",
      "Fold 1/5, mse=1.1008039694646916\n",
      "Fold 2/5, mse=1.0939793441977195\n",
      "Fold 3/5, mse=1.118786835974776\n",
      "Fold 4/5, mse=1.1128908413615832\n",
      "Fold 5/5, mse=1.2036869855175092\n",
      "Average MSE: 1.1260295953032557\n"
     ]
    }
   ],
   "source": [
    "regs = [0.01, 0.1, 0.5]\n",
    "sss = [0.1, 0.05, 0.01, 0.005]\n",
    "\n",
    "params_list = [('reg={},ss={}'.format(reg, ss), dict(bias_reg=reg, one_way_reg=reg, two_way_reg=reg, \n",
    "                                                     learning_rate=ss)) for reg in regs for ss in sss]\n",
    "\n",
    "res_dict = tuner.evaluate_list(params_list)"
   ]
  },
  {
   "cell_type": "code",
   "execution_count": 4,
   "metadata": {},
   "outputs": [
    {
     "data": {
      "text/plain": [
       "(array([ 1,  2,  3,  4,  5,  6,  7,  8,  9, 10, 11, 12]),\n",
       " <a list of 12 Text xticklabel objects>)"
      ]
     },
     "execution_count": 4,
     "metadata": {},
     "output_type": "execute_result"
    },
    {
     "data": {
      "image/png": "[encoded data removed]",
      "text/plain": [
       "<Figure size 1080x360 with 1 Axes>"
      ]
     },
     "metadata": {
      "needs_background": "light"
     },
     "output_type": "display_data"
    }
   ],
   "source": [
    "import matplotlib.pyplot as plt\n",
    "\n",
    "plt.figure(figsize=[15,5])\n",
    "plt.title(\"5 fold CV MSE\")\n",
    "plt.boxplot(res_dict.values(), labels=res_dict.keys());\n",
    "plt.xticks(rotation=90) "
   ]
  },
  {
   "cell_type": "code",
   "execution_count": 11,
   "metadata": {},
   "outputs": [
    {
     "name": "stdout",
     "output_type": "stream",
     "text": [
      "Evaluating: {'bias_reg': 0.1, 'one_way_reg': 0.1, 'two_way_reg': 0.1, 'learning_rate': 0.005, 'num_two_way_factors': 8}\n",
      "Fold 1/5, mse=0.8642756163705609\n",
      "Fold 2/5, mse=0.8530917296032209\n",
      "Fold 3/5, mse=0.8379744207027668\n",
      "Fold 4/5, mse=0.8432846551603826\n",
      "Fold 5/5, mse=0.8197650316707888\n",
      "Average MSE: 0.843678290701544\n",
      "Evaluating: {'bias_reg': 0.1, 'one_way_reg': 0.1, 'two_way_reg': 0.1, 'learning_rate': 0.005, 'num_two_way_factors': 16}\n",
      "Fold 1/5, mse=0.8606387026644754\n",
      "Fold 2/5, mse=0.850357727390412\n",
      "Fold 3/5, mse=0.8387158031762189\n",
      "Fold 4/5, mse=0.838599096338516\n",
      "Fold 5/5, mse=0.8160730047719573\n",
      "Average MSE: 0.8408768668683159\n",
      "Evaluating: {'bias_reg': 0.1, 'one_way_reg': 0.1, 'two_way_reg': 0.1, 'learning_rate': 0.005, 'num_two_way_factors': 32}\n",
      "Fold 1/5, mse=0.8591696322279365\n",
      "Fold 2/5, mse=0.8471232670026164\n",
      "Fold 3/5, mse=0.8375817944600631\n",
      "Fold 4/5, mse=0.8404724286163197\n",
      "Fold 5/5, mse=0.8105690942841294\n",
      "Average MSE: 0.8389832433182131\n",
      "Evaluating: {'bias_reg': 0.1, 'one_way_reg': 0.1, 'two_way_reg': 0.1, 'learning_rate': 0.005, 'num_two_way_factors': 56}\n",
      "Fold 1/5, mse=0.858553073034019\n",
      "Fold 2/5, mse=0.8463380179090533\n",
      "Fold 3/5, mse=0.831458523005703\n",
      "Fold 4/5, mse=0.8405987964429514\n",
      "Fold 5/5, mse=0.81018697074684\n",
      "Average MSE: 0.8374270762277133\n",
      "Evaluating: {'bias_reg': 0.1, 'one_way_reg': 0.1, 'two_way_reg': 0.1, 'learning_rate': 0.005, 'num_two_way_factors': 128}\n",
      "Fold 1/5, mse=0.8570303532457066\n",
      "Fold 2/5, mse=0.848380153686718\n",
      "Fold 3/5, mse=0.8353969454745965\n",
      "Fold 4/5, mse=0.8403335499511135\n",
      "Fold 5/5, mse=0.8079964722399605\n",
      "Average MSE: 0.8378274949196189\n",
      "Evaluating: {'bias_reg': 0.1, 'one_way_reg': 0.1, 'two_way_reg': 0.1, 'learning_rate': 0.005, 'num_two_way_factors': 256}\n",
      "Fold 1/5, mse=0.8571990362556992\n",
      "Fold 2/5, mse=0.8500787510193005\n",
      "Fold 3/5, mse=0.8372786560142662\n",
      "Fold 4/5, mse=0.8403437274679967\n",
      "Fold 5/5, mse=0.8102019940428264\n",
      "Average MSE: 0.8390204329600177\n"
     ]
    }
   ],
   "source": [
    "dims = [8, 16, 32, 56, 128, 256]\n",
    "params_list = [('dim={}'.format(k), dict(bias_reg=0.1, one_way_reg=0.1, two_way_reg=0.1, \n",
    "                                         learning_rate=0.005, num_two_way_factors=k)) for k in dims]\n",
    "\n",
    "res_dict = tuner.evaluate_list(params_list)"
   ]
  },
  {
   "cell_type": "code",
   "execution_count": 13,
   "metadata": {},
   "outputs": [
    {
     "data": {
      "image/png": "[encoded data removed]",
      "text/plain": [
       "<Figure size 1080x360 with 1 Axes>"
      ]
     },
     "metadata": {
      "needs_background": "light"
     },
     "output_type": "display_data"
    }
   ],
   "source": [
    "import matplotlib.pyplot as plt\n",
    "\n",
    "plt.figure(figsize=[15,5])\n",
    "plt.title(\"5 fold CV MSE\")\n",
    "plt.boxplot(res_dict.values(), labels=res_dict.keys());\n",
    "plt.xticks(rotation=90) \n",
    "plt.grid()"
   ]
  },
  {
   "cell_type": "markdown",
   "metadata": {},
   "source": [
    "# ML 10M\n",
    "\n",
    "no need to tune model since previous work has determined best settings"
   ]
  },
  {
   "cell_type": "code",
   "execution_count": 17,
   "metadata": {},
   "outputs": [],
   "source": [
    "datafile = '~/recsys/recsys-eval/data/ml-10M100K/ratings.dat'"
   ]
  },
  {
   "cell_type": "code",
   "execution_count": 6,
   "metadata": {},
   "outputs": [],
   "source": [
    "users, items, ratings = data_utils.read_dataset('ml-10m')\n"
   ]
  },
  {
   "cell_type": "code",
   "execution_count": 10,
   "metadata": {},
   "outputs": [
    {
     "data": {
      "text/plain": [
       "10677"
      ]
     },
     "execution_count": 10,
     "metadata": {},
     "output_type": "execute_result"
    }
   ],
   "source": [
    "len(items)"
   ]
  },
  {
   "cell_type": "markdown",
   "metadata": {},
   "source": [
    "# Citeulike-a\n",
    "\n",
    "TODO: current setting can just predict 1 for ever item! We need more specialized implicit rating methods which are not included in libfm"
   ]
  },
  {
   "cell_type": "code",
   "execution_count": 6,
   "metadata": {},
   "outputs": [
    {
     "name": "stdout",
     "output_type": "stream",
     "text": [
      "199435\n",
      "1\n"
     ]
    }
   ],
   "source": [
    "users, items, ratings = data_utils.read_dataset('citeulike-a')\n",
    "\n",
    "print(len(ratings))\n",
    "print(len(np.unique(ratings)))\n"
   ]
  },
  {
   "cell_type": "code",
   "execution_count": 7,
   "metadata": {},
   "outputs": [
    {
     "data": {
      "text/plain": [
       "0.0021168843249956596"
      ]
     },
     "execution_count": 7,
     "metadata": {},
     "output_type": "execute_result"
    }
   ],
   "source": [
    "len(ratings)/ (len(users) * len(items))"
   ]
  },
  {
   "cell_type": "markdown",
   "metadata": {},
   "source": [
    "# Pinterest\n",
    "\n",
    "TODO: current setting can just predict 1 for ever item! We need more specialized implicit rating methods which are not included in libfm"
   ]
  },
  {
   "cell_type": "code",
   "execution_count": 6,
   "metadata": {},
   "outputs": [],
   "source": []
  },
  {
   "cell_type": "markdown",
   "metadata": {},
   "source": [
    "# LastFM"
   ]
  },
  {
   "cell_type": "code",
   "execution_count": 2,
   "metadata": {},
   "outputs": [],
   "source": [
    "users, items, ratings = data_utils.read_dataset('lastfm', shuffle=True)"
   ]
  },
  {
   "cell_type": "code",
   "execution_count": 3,
   "metadata": {},
   "outputs": [
    {
     "data": {
      "text/plain": [
       "992"
      ]
     },
     "execution_count": 3,
     "metadata": {},
     "output_type": "execute_result"
    }
   ],
   "source": [
    "len(users)"
   ]
  },
  {
   "cell_type": "code",
   "execution_count": 4,
   "metadata": {},
   "outputs": [
    {
     "data": {
      "text/plain": [
       "177023"
      ]
     },
     "execution_count": 4,
     "metadata": {},
     "output_type": "execute_result"
    }
   ],
   "source": [
    "len(items)"
   ]
  },
  {
   "cell_type": "code",
   "execution_count": 5,
   "metadata": {},
   "outputs": [
    {
     "data": {
      "text/plain": [
       "904625"
      ]
     },
     "execution_count": 5,
     "metadata": {},
     "output_type": "execute_result"
    }
   ],
   "source": [
    "len(ratings)"
   ]
  },
  {
   "cell_type": "code",
   "execution_count": 11,
   "metadata": {},
   "outputs": [],
   "source": [
    "import os\n",
    "import pandas as pd\n",
    "data_name = 'lastfm-dataset-1K/lfm1k-play-counts.csv'\n",
    "csv_params = dict(header=0, usecols=[0, 1, 2],\n",
    "                  names=['user_id', 'item_id', 'rating'])\n",
    "datafile = os.path.join('../data/', data_name)\n",
    "data = pd.read_csv(datafile, **csv_params)"
   ]
  },
  {
   "cell_type": "code",
   "execution_count": 16,
   "metadata": {},
   "outputs": [],
   "source": [
    "data['rating'] = np.log(1+data['rating'])"
   ]
  },
  {
   "cell_type": "code",
   "execution_count": 18,
   "metadata": {},
   "outputs": [
    {
     "data": {
      "text/plain": [
       "<matplotlib.axes._subplots.AxesSubplot at 0x7feee692f350>"
      ]
     },
     "execution_count": 18,
     "metadata": {},
     "output_type": "execute_result"
    },
    {
     "data": {
      "image/png": "[encoded data removed]",
      "text/plain": [
       "<Figure size 432x288 with 1 Axes>"
      ]
     },
     "metadata": {
      "needs_background": "light"
     },
     "output_type": "display_data"
    }
   ],
   "source": [
    "data['rating'].hist()"
   ]
  },
  {
   "cell_type": "code",
   "execution_count": 7,
   "metadata": {},
   "outputs": [
    {
     "ename": "ValueError",
     "evalue": "autodetected range of [[], []] is not finite",
     "output_type": "error",
     "traceback": [
      "\u001b[0;31m---------------------------------------------------------------------------\u001b[0m",
      "\u001b[0;31mValueError\u001b[0m                                Traceback (most recent call last)",
      "\u001b[0;32m<ipython-input-7-adfa343a3626>\u001b[0m in \u001b[0;36m<module>\u001b[0;34m\u001b[0m\n\u001b[1;32m      1\u001b[0m \u001b[0;32mimport\u001b[0m \u001b[0mmatplotlib\u001b[0m\u001b[0;34m.\u001b[0m\u001b[0mpyplot\u001b[0m \u001b[0;32mas\u001b[0m \u001b[0mplt\u001b[0m\u001b[0;34m\u001b[0m\u001b[0;34m\u001b[0m\u001b[0m\n\u001b[1;32m      2\u001b[0m \u001b[0mplt\u001b[0m\u001b[0;34m.\u001b[0m\u001b[0mfigure\u001b[0m\u001b[0;34m(\u001b[0m\u001b[0;34m)\u001b[0m\u001b[0;34m\u001b[0m\u001b[0;34m\u001b[0m\u001b[0m\n\u001b[0;32m----> 3\u001b[0;31m \u001b[0mplt\u001b[0m\u001b[0;34m.\u001b[0m\u001b[0mhist\u001b[0m\u001b[0;34m(\u001b[0m\u001b[0mratings\u001b[0m\u001b[0;34m.\u001b[0m\u001b[0mvalues\u001b[0m\u001b[0;34m(\u001b[0m\u001b[0;34m)\u001b[0m\u001b[0;34m)\u001b[0m\u001b[0;34m\u001b[0m\u001b[0;34m\u001b[0m\u001b[0m\n\u001b[0m",
      "\u001b[0;32m~/anaconda3/lib/python3.7/site-packages/matplotlib/pyplot.py\u001b[0m in \u001b[0;36mhist\u001b[0;34m(x, bins, range, density, weights, cumulative, bottom, histtype, align, orientation, rwidth, log, color, label, stacked, normed, data, **kwargs)\u001b[0m\n\u001b[1;32m   2640\u001b[0m         \u001b[0malign\u001b[0m\u001b[0;34m=\u001b[0m\u001b[0malign\u001b[0m\u001b[0;34m,\u001b[0m \u001b[0morientation\u001b[0m\u001b[0;34m=\u001b[0m\u001b[0morientation\u001b[0m\u001b[0;34m,\u001b[0m \u001b[0mrwidth\u001b[0m\u001b[0;34m=\u001b[0m\u001b[0mrwidth\u001b[0m\u001b[0;34m,\u001b[0m \u001b[0mlog\u001b[0m\u001b[0;34m=\u001b[0m\u001b[0mlog\u001b[0m\u001b[0;34m,\u001b[0m\u001b[0;34m\u001b[0m\u001b[0;34m\u001b[0m\u001b[0m\n\u001b[1;32m   2641\u001b[0m         \u001b[0mcolor\u001b[0m\u001b[0;34m=\u001b[0m\u001b[0mcolor\u001b[0m\u001b[0;34m,\u001b[0m \u001b[0mlabel\u001b[0m\u001b[0;34m=\u001b[0m\u001b[0mlabel\u001b[0m\u001b[0;34m,\u001b[0m \u001b[0mstacked\u001b[0m\u001b[0;34m=\u001b[0m\u001b[0mstacked\u001b[0m\u001b[0;34m,\u001b[0m \u001b[0mnormed\u001b[0m\u001b[0;34m=\u001b[0m\u001b[0mnormed\u001b[0m\u001b[0;34m,\u001b[0m\u001b[0;34m\u001b[0m\u001b[0;34m\u001b[0m\u001b[0m\n\u001b[0;32m-> 2642\u001b[0;31m         **({\"data\": data} if data is not None else {}), **kwargs)\n\u001b[0m\u001b[1;32m   2643\u001b[0m \u001b[0;34m\u001b[0m\u001b[0m\n\u001b[1;32m   2644\u001b[0m \u001b[0;34m\u001b[0m\u001b[0m\n",
      "\u001b[0;32m~/anaconda3/lib/python3.7/site-packages/matplotlib/__init__.py\u001b[0m in \u001b[0;36minner\u001b[0;34m(ax, data, *args, **kwargs)\u001b[0m\n\u001b[1;32m   1599\u001b[0m     \u001b[0;32mdef\u001b[0m \u001b[0minner\u001b[0m\u001b[0;34m(\u001b[0m\u001b[0max\u001b[0m\u001b[0;34m,\u001b[0m \u001b[0;34m*\u001b[0m\u001b[0margs\u001b[0m\u001b[0;34m,\u001b[0m \u001b[0mdata\u001b[0m\u001b[0;34m=\u001b[0m\u001b[0;32mNone\u001b[0m\u001b[0;34m,\u001b[0m \u001b[0;34m**\u001b[0m\u001b[0mkwargs\u001b[0m\u001b[0;34m)\u001b[0m\u001b[0;34m:\u001b[0m\u001b[0;34m\u001b[0m\u001b[0;34m\u001b[0m\u001b[0m\n\u001b[1;32m   1600\u001b[0m         \u001b[0;32mif\u001b[0m \u001b[0mdata\u001b[0m \u001b[0;32mis\u001b[0m \u001b[0;32mNone\u001b[0m\u001b[0;34m:\u001b[0m\u001b[0;34m\u001b[0m\u001b[0;34m\u001b[0m\u001b[0m\n\u001b[0;32m-> 1601\u001b[0;31m             \u001b[0;32mreturn\u001b[0m \u001b[0mfunc\u001b[0m\u001b[0;34m(\u001b[0m\u001b[0max\u001b[0m\u001b[0;34m,\u001b[0m \u001b[0;34m*\u001b[0m\u001b[0mmap\u001b[0m\u001b[0;34m(\u001b[0m\u001b[0msanitize_sequence\u001b[0m\u001b[0;34m,\u001b[0m \u001b[0margs\u001b[0m\u001b[0;34m)\u001b[0m\u001b[0;34m,\u001b[0m \u001b[0;34m**\u001b[0m\u001b[0mkwargs\u001b[0m\u001b[0;34m)\u001b[0m\u001b[0;34m\u001b[0m\u001b[0;34m\u001b[0m\u001b[0m\n\u001b[0m\u001b[1;32m   1602\u001b[0m \u001b[0;34m\u001b[0m\u001b[0m\n\u001b[1;32m   1603\u001b[0m         \u001b[0mbound\u001b[0m \u001b[0;34m=\u001b[0m \u001b[0mnew_sig\u001b[0m\u001b[0;34m.\u001b[0m\u001b[0mbind\u001b[0m\u001b[0;34m(\u001b[0m\u001b[0max\u001b[0m\u001b[0;34m,\u001b[0m \u001b[0;34m*\u001b[0m\u001b[0margs\u001b[0m\u001b[0;34m,\u001b[0m \u001b[0;34m**\u001b[0m\u001b[0mkwargs\u001b[0m\u001b[0;34m)\u001b[0m\u001b[0;34m\u001b[0m\u001b[0;34m\u001b[0m\u001b[0m\n",
      "\u001b[0;32m~/anaconda3/lib/python3.7/site-packages/matplotlib/axes/_axes.py\u001b[0m in \u001b[0;36mhist\u001b[0;34m(self, x, bins, range, density, weights, cumulative, bottom, histtype, align, orientation, rwidth, log, color, label, stacked, normed, **kwargs)\u001b[0m\n\u001b[1;32m   6750\u001b[0m \u001b[0;34m\u001b[0m\u001b[0m\n\u001b[1;32m   6751\u001b[0m             bins = histogram_bin_edges(np.concatenate(x),\n\u001b[0;32m-> 6752\u001b[0;31m                                        bins, bin_range, _w)\n\u001b[0m\u001b[1;32m   6753\u001b[0m         \u001b[0;32melse\u001b[0m\u001b[0;34m:\u001b[0m\u001b[0;34m\u001b[0m\u001b[0;34m\u001b[0m\u001b[0m\n\u001b[1;32m   6754\u001b[0m             \u001b[0mhist_kwargs\u001b[0m\u001b[0;34m[\u001b[0m\u001b[0;34m'range'\u001b[0m\u001b[0;34m]\u001b[0m \u001b[0;34m=\u001b[0m \u001b[0mbin_range\u001b[0m\u001b[0;34m\u001b[0m\u001b[0;34m\u001b[0m\u001b[0m\n",
      "\u001b[0;32m<__array_function__ internals>\u001b[0m in \u001b[0;36mhistogram_bin_edges\u001b[0;34m(*args, **kwargs)\u001b[0m\n",
      "\u001b[0;32m~/anaconda3/lib/python3.7/site-packages/numpy/lib/histograms.py\u001b[0m in \u001b[0;36mhistogram_bin_edges\u001b[0;34m(a, bins, range, weights)\u001b[0m\n\u001b[1;32m    659\u001b[0m     \"\"\"\n\u001b[1;32m    660\u001b[0m     \u001b[0ma\u001b[0m\u001b[0;34m,\u001b[0m \u001b[0mweights\u001b[0m \u001b[0;34m=\u001b[0m \u001b[0m_ravel_and_check_weights\u001b[0m\u001b[0;34m(\u001b[0m\u001b[0ma\u001b[0m\u001b[0;34m,\u001b[0m \u001b[0mweights\u001b[0m\u001b[0;34m)\u001b[0m\u001b[0;34m\u001b[0m\u001b[0;34m\u001b[0m\u001b[0m\n\u001b[0;32m--> 661\u001b[0;31m     \u001b[0mbin_edges\u001b[0m\u001b[0;34m,\u001b[0m \u001b[0m_\u001b[0m \u001b[0;34m=\u001b[0m \u001b[0m_get_bin_edges\u001b[0m\u001b[0;34m(\u001b[0m\u001b[0ma\u001b[0m\u001b[0;34m,\u001b[0m \u001b[0mbins\u001b[0m\u001b[0;34m,\u001b[0m \u001b[0mrange\u001b[0m\u001b[0;34m,\u001b[0m \u001b[0mweights\u001b[0m\u001b[0;34m)\u001b[0m\u001b[0;34m\u001b[0m\u001b[0;34m\u001b[0m\u001b[0m\n\u001b[0m\u001b[1;32m    662\u001b[0m     \u001b[0;32mreturn\u001b[0m \u001b[0mbin_edges\u001b[0m\u001b[0;34m\u001b[0m\u001b[0;34m\u001b[0m\u001b[0m\n\u001b[1;32m    663\u001b[0m \u001b[0;34m\u001b[0m\u001b[0m\n",
      "\u001b[0;32m~/anaconda3/lib/python3.7/site-packages/numpy/lib/histograms.py\u001b[0m in \u001b[0;36m_get_bin_edges\u001b[0;34m(a, bins, range, weights)\u001b[0m\n\u001b[1;32m    417\u001b[0m             \u001b[0;32mraise\u001b[0m \u001b[0mValueError\u001b[0m\u001b[0;34m(\u001b[0m\u001b[0;34m'`bins` must be positive, when an integer'\u001b[0m\u001b[0;34m)\u001b[0m\u001b[0;34m\u001b[0m\u001b[0;34m\u001b[0m\u001b[0m\n\u001b[1;32m    418\u001b[0m \u001b[0;34m\u001b[0m\u001b[0m\n\u001b[0;32m--> 419\u001b[0;31m         \u001b[0mfirst_edge\u001b[0m\u001b[0;34m,\u001b[0m \u001b[0mlast_edge\u001b[0m \u001b[0;34m=\u001b[0m \u001b[0m_get_outer_edges\u001b[0m\u001b[0;34m(\u001b[0m\u001b[0ma\u001b[0m\u001b[0;34m,\u001b[0m \u001b[0mrange\u001b[0m\u001b[0;34m)\u001b[0m\u001b[0;34m\u001b[0m\u001b[0;34m\u001b[0m\u001b[0m\n\u001b[0m\u001b[1;32m    420\u001b[0m \u001b[0;34m\u001b[0m\u001b[0m\n\u001b[1;32m    421\u001b[0m     \u001b[0;32melif\u001b[0m \u001b[0mnp\u001b[0m\u001b[0;34m.\u001b[0m\u001b[0mndim\u001b[0m\u001b[0;34m(\u001b[0m\u001b[0mbins\u001b[0m\u001b[0;34m)\u001b[0m \u001b[0;34m==\u001b[0m \u001b[0;36m1\u001b[0m\u001b[0;34m:\u001b[0m\u001b[0;34m\u001b[0m\u001b[0;34m\u001b[0m\u001b[0m\n",
      "\u001b[0;32m~/anaconda3/lib/python3.7/site-packages/numpy/lib/histograms.py\u001b[0m in \u001b[0;36m_get_outer_edges\u001b[0;34m(a, range)\u001b[0m\n\u001b[1;32m    315\u001b[0m         \u001b[0;32mif\u001b[0m \u001b[0;32mnot\u001b[0m \u001b[0;34m(\u001b[0m\u001b[0mnp\u001b[0m\u001b[0;34m.\u001b[0m\u001b[0misfinite\u001b[0m\u001b[0;34m(\u001b[0m\u001b[0mfirst_edge\u001b[0m\u001b[0;34m)\u001b[0m \u001b[0;32mand\u001b[0m \u001b[0mnp\u001b[0m\u001b[0;34m.\u001b[0m\u001b[0misfinite\u001b[0m\u001b[0;34m(\u001b[0m\u001b[0mlast_edge\u001b[0m\u001b[0;34m)\u001b[0m\u001b[0;34m)\u001b[0m\u001b[0;34m:\u001b[0m\u001b[0;34m\u001b[0m\u001b[0;34m\u001b[0m\u001b[0m\n\u001b[1;32m    316\u001b[0m             raise ValueError(\n\u001b[0;32m--> 317\u001b[0;31m                 \"autodetected range of [{}, {}] is not finite\".format(first_edge, last_edge))\n\u001b[0m\u001b[1;32m    318\u001b[0m \u001b[0;34m\u001b[0m\u001b[0m\n\u001b[1;32m    319\u001b[0m     \u001b[0;31m# expand empty range to avoid divide by zero\u001b[0m\u001b[0;34m\u001b[0m\u001b[0;34m\u001b[0m\u001b[0;34m\u001b[0m\u001b[0m\n",
      "\u001b[0;31mValueError\u001b[0m: autodetected range of [[], []] is not finite"
     ]
    },
    {
     "data": {
      "image/png": "[encoded data removed]",
      "text/plain": [
       "<Figure size 432x288 with 1 Axes>"
      ]
     },
     "metadata": {
      "needs_background": "light"
     },
     "output_type": "display_data"
    }
   ],
   "source": [
    "import matplotlib.pyplot as plt\n",
    "plt.figure()\n",
    "plt.hist(ratings.values())"
   ]
  },
  {
   "cell_type": "code",
   "execution_count": null,
   "metadata": {},
   "outputs": [],
   "source": []
  }
 ],
 "metadata": {
  "kernelspec": {
   "display_name": "Python 3",
   "language": "python",
   "name": "python3"
  },
  "language_info": {
   "codemirror_mode": {
    "name": "ipython",
    "version": 3
   },
   "file_extension": ".py",
   "mimetype": "text/x-python",
   "name": "python",
   "nbconvert_exporter": "python",
   "pygments_lexer": "ipython3",
   "version": "3.7.4"
  }
 },
 "nbformat": 4,
 "nbformat_minor": 2
}
